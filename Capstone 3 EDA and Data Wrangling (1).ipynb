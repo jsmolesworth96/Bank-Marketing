{
 "cells": [
  {
   "cell_type": "markdown",
   "metadata": {},
   "source": [
    "**Exploratory Data Ananysis and Data Wrangling**"
   ]
  },
  {
   "cell_type": "code",
   "execution_count": 1,
   "metadata": {},
   "outputs": [
    {
     "name": "stderr",
     "output_type": "stream",
     "text": [
      "C:\\Users\\Owner\\Anaconda3\\lib\\site-packages\\statsmodels\\tools\\_testing.py:19: FutureWarning: pandas.util.testing is deprecated. Use the functions in the public API at pandas.testing instead.\n",
      "  import pandas.util.testing as tm\n"
     ]
    }
   ],
   "source": [
    "import pandas as pd\n",
    "import seaborn as sns\n",
    "from statsmodels.formula.api import ols\n",
    "import numpy as np\n",
    "import matplotlib.pyplot as plt\n",
    "from sklearn.preprocessing import RobustScaler\n",
    "from patsy import dmatrices\n",
    "import statsmodels.api as sm\n",
    "from statsmodels.stats.outliers_influence import variance_inflation_factor\n",
    "import statsmodels.api as sm \n",
    "from sklearn.linear_model import LogisticRegression\n",
    "from sklearn.ensemble import RandomForestClassifier\n",
    "import numpy as np"
   ]
  },
  {
   "cell_type": "code",
   "execution_count": 2,
   "metadata": {},
   "outputs": [],
   "source": [
    "df = pd.read_csv('bank-full.csv')"
   ]
  },
  {
   "cell_type": "code",
   "execution_count": 3,
   "metadata": {},
   "outputs": [
    {
     "data": {
      "text/html": [
       "<div>\n",
       "<style scoped>\n",
       "    .dataframe tbody tr th:only-of-type {\n",
       "        vertical-align: middle;\n",
       "    }\n",
       "\n",
       "    .dataframe tbody tr th {\n",
       "        vertical-align: top;\n",
       "    }\n",
       "\n",
       "    .dataframe thead th {\n",
       "        text-align: right;\n",
       "    }\n",
       "</style>\n",
       "<table border=\"1\" class=\"dataframe\">\n",
       "  <thead>\n",
       "    <tr style=\"text-align: right;\">\n",
       "      <th></th>\n",
       "      <th>age</th>\n",
       "      <th>job</th>\n",
       "      <th>marital</th>\n",
       "      <th>education</th>\n",
       "      <th>default</th>\n",
       "      <th>balance</th>\n",
       "      <th>housing</th>\n",
       "      <th>loan</th>\n",
       "      <th>contact</th>\n",
       "      <th>day</th>\n",
       "      <th>month</th>\n",
       "      <th>duration</th>\n",
       "      <th>campaign</th>\n",
       "      <th>pdays</th>\n",
       "      <th>previous</th>\n",
       "      <th>poutcome</th>\n",
       "      <th>y</th>\n",
       "    </tr>\n",
       "  </thead>\n",
       "  <tbody>\n",
       "    <tr>\n",
       "      <th>0</th>\n",
       "      <td>58</td>\n",
       "      <td>management</td>\n",
       "      <td>married</td>\n",
       "      <td>tertiary</td>\n",
       "      <td>no</td>\n",
       "      <td>2143</td>\n",
       "      <td>yes</td>\n",
       "      <td>no</td>\n",
       "      <td>unknown</td>\n",
       "      <td>5</td>\n",
       "      <td>may</td>\n",
       "      <td>261</td>\n",
       "      <td>1</td>\n",
       "      <td>-1</td>\n",
       "      <td>0</td>\n",
       "      <td>unknown</td>\n",
       "      <td>no</td>\n",
       "    </tr>\n",
       "    <tr>\n",
       "      <th>1</th>\n",
       "      <td>44</td>\n",
       "      <td>technician</td>\n",
       "      <td>single</td>\n",
       "      <td>secondary</td>\n",
       "      <td>no</td>\n",
       "      <td>29</td>\n",
       "      <td>yes</td>\n",
       "      <td>no</td>\n",
       "      <td>unknown</td>\n",
       "      <td>5</td>\n",
       "      <td>may</td>\n",
       "      <td>151</td>\n",
       "      <td>1</td>\n",
       "      <td>-1</td>\n",
       "      <td>0</td>\n",
       "      <td>unknown</td>\n",
       "      <td>no</td>\n",
       "    </tr>\n",
       "    <tr>\n",
       "      <th>2</th>\n",
       "      <td>33</td>\n",
       "      <td>entrepreneur</td>\n",
       "      <td>married</td>\n",
       "      <td>secondary</td>\n",
       "      <td>no</td>\n",
       "      <td>2</td>\n",
       "      <td>yes</td>\n",
       "      <td>yes</td>\n",
       "      <td>unknown</td>\n",
       "      <td>5</td>\n",
       "      <td>may</td>\n",
       "      <td>76</td>\n",
       "      <td>1</td>\n",
       "      <td>-1</td>\n",
       "      <td>0</td>\n",
       "      <td>unknown</td>\n",
       "      <td>no</td>\n",
       "    </tr>\n",
       "    <tr>\n",
       "      <th>3</th>\n",
       "      <td>47</td>\n",
       "      <td>blue-collar</td>\n",
       "      <td>married</td>\n",
       "      <td>unknown</td>\n",
       "      <td>no</td>\n",
       "      <td>1506</td>\n",
       "      <td>yes</td>\n",
       "      <td>no</td>\n",
       "      <td>unknown</td>\n",
       "      <td>5</td>\n",
       "      <td>may</td>\n",
       "      <td>92</td>\n",
       "      <td>1</td>\n",
       "      <td>-1</td>\n",
       "      <td>0</td>\n",
       "      <td>unknown</td>\n",
       "      <td>no</td>\n",
       "    </tr>\n",
       "    <tr>\n",
       "      <th>4</th>\n",
       "      <td>33</td>\n",
       "      <td>unknown</td>\n",
       "      <td>single</td>\n",
       "      <td>unknown</td>\n",
       "      <td>no</td>\n",
       "      <td>1</td>\n",
       "      <td>no</td>\n",
       "      <td>no</td>\n",
       "      <td>unknown</td>\n",
       "      <td>5</td>\n",
       "      <td>may</td>\n",
       "      <td>198</td>\n",
       "      <td>1</td>\n",
       "      <td>-1</td>\n",
       "      <td>0</td>\n",
       "      <td>unknown</td>\n",
       "      <td>no</td>\n",
       "    </tr>\n",
       "  </tbody>\n",
       "</table>\n",
       "</div>"
      ],
      "text/plain": [
       "   age           job  marital  education default  balance housing loan  \\\n",
       "0   58    management  married   tertiary      no     2143     yes   no   \n",
       "1   44    technician   single  secondary      no       29     yes   no   \n",
       "2   33  entrepreneur  married  secondary      no        2     yes  yes   \n",
       "3   47   blue-collar  married    unknown      no     1506     yes   no   \n",
       "4   33       unknown   single    unknown      no        1      no   no   \n",
       "\n",
       "   contact  day month  duration  campaign  pdays  previous poutcome   y  \n",
       "0  unknown    5   may       261         1     -1         0  unknown  no  \n",
       "1  unknown    5   may       151         1     -1         0  unknown  no  \n",
       "2  unknown    5   may        76         1     -1         0  unknown  no  \n",
       "3  unknown    5   may        92         1     -1         0  unknown  no  \n",
       "4  unknown    5   may       198         1     -1         0  unknown  no  "
      ]
     },
     "execution_count": 3,
     "metadata": {},
     "output_type": "execute_result"
    }
   ],
   "source": [
    "df.head()"
   ]
  },
  {
   "cell_type": "code",
   "execution_count": 4,
   "metadata": {},
   "outputs": [],
   "source": [
    "df = df.rename(columns={'y':'subscribed'})"
   ]
  },
  {
   "cell_type": "code",
   "execution_count": 5,
   "metadata": {},
   "outputs": [],
   "source": [
    "sub_df = df[df['subscribed']=='yes']"
   ]
  },
  {
   "cell_type": "code",
   "execution_count": 6,
   "metadata": {},
   "outputs": [
    {
     "data": {
      "text/html": [
       "<div>\n",
       "<style scoped>\n",
       "    .dataframe tbody tr th:only-of-type {\n",
       "        vertical-align: middle;\n",
       "    }\n",
       "\n",
       "    .dataframe tbody tr th {\n",
       "        vertical-align: top;\n",
       "    }\n",
       "\n",
       "    .dataframe thead th {\n",
       "        text-align: right;\n",
       "    }\n",
       "</style>\n",
       "<table border=\"1\" class=\"dataframe\">\n",
       "  <thead>\n",
       "    <tr style=\"text-align: right;\">\n",
       "      <th></th>\n",
       "      <th>age</th>\n",
       "      <th>job</th>\n",
       "      <th>marital</th>\n",
       "      <th>education</th>\n",
       "      <th>default</th>\n",
       "      <th>balance</th>\n",
       "      <th>housing</th>\n",
       "      <th>loan</th>\n",
       "      <th>contact</th>\n",
       "      <th>day</th>\n",
       "      <th>month</th>\n",
       "      <th>duration</th>\n",
       "      <th>campaign</th>\n",
       "      <th>pdays</th>\n",
       "      <th>previous</th>\n",
       "      <th>poutcome</th>\n",
       "      <th>subscribed</th>\n",
       "    </tr>\n",
       "  </thead>\n",
       "  <tbody>\n",
       "    <tr>\n",
       "      <th>83</th>\n",
       "      <td>59</td>\n",
       "      <td>admin.</td>\n",
       "      <td>married</td>\n",
       "      <td>secondary</td>\n",
       "      <td>no</td>\n",
       "      <td>2343</td>\n",
       "      <td>yes</td>\n",
       "      <td>no</td>\n",
       "      <td>unknown</td>\n",
       "      <td>5</td>\n",
       "      <td>may</td>\n",
       "      <td>1042</td>\n",
       "      <td>1</td>\n",
       "      <td>-1</td>\n",
       "      <td>0</td>\n",
       "      <td>unknown</td>\n",
       "      <td>yes</td>\n",
       "    </tr>\n",
       "    <tr>\n",
       "      <th>86</th>\n",
       "      <td>56</td>\n",
       "      <td>admin.</td>\n",
       "      <td>married</td>\n",
       "      <td>secondary</td>\n",
       "      <td>no</td>\n",
       "      <td>45</td>\n",
       "      <td>no</td>\n",
       "      <td>no</td>\n",
       "      <td>unknown</td>\n",
       "      <td>5</td>\n",
       "      <td>may</td>\n",
       "      <td>1467</td>\n",
       "      <td>1</td>\n",
       "      <td>-1</td>\n",
       "      <td>0</td>\n",
       "      <td>unknown</td>\n",
       "      <td>yes</td>\n",
       "    </tr>\n",
       "    <tr>\n",
       "      <th>87</th>\n",
       "      <td>41</td>\n",
       "      <td>technician</td>\n",
       "      <td>married</td>\n",
       "      <td>secondary</td>\n",
       "      <td>no</td>\n",
       "      <td>1270</td>\n",
       "      <td>yes</td>\n",
       "      <td>no</td>\n",
       "      <td>unknown</td>\n",
       "      <td>5</td>\n",
       "      <td>may</td>\n",
       "      <td>1389</td>\n",
       "      <td>1</td>\n",
       "      <td>-1</td>\n",
       "      <td>0</td>\n",
       "      <td>unknown</td>\n",
       "      <td>yes</td>\n",
       "    </tr>\n",
       "    <tr>\n",
       "      <th>129</th>\n",
       "      <td>55</td>\n",
       "      <td>services</td>\n",
       "      <td>married</td>\n",
       "      <td>secondary</td>\n",
       "      <td>no</td>\n",
       "      <td>2476</td>\n",
       "      <td>yes</td>\n",
       "      <td>no</td>\n",
       "      <td>unknown</td>\n",
       "      <td>5</td>\n",
       "      <td>may</td>\n",
       "      <td>579</td>\n",
       "      <td>1</td>\n",
       "      <td>-1</td>\n",
       "      <td>0</td>\n",
       "      <td>unknown</td>\n",
       "      <td>yes</td>\n",
       "    </tr>\n",
       "    <tr>\n",
       "      <th>168</th>\n",
       "      <td>54</td>\n",
       "      <td>admin.</td>\n",
       "      <td>married</td>\n",
       "      <td>tertiary</td>\n",
       "      <td>no</td>\n",
       "      <td>184</td>\n",
       "      <td>no</td>\n",
       "      <td>no</td>\n",
       "      <td>unknown</td>\n",
       "      <td>5</td>\n",
       "      <td>may</td>\n",
       "      <td>673</td>\n",
       "      <td>2</td>\n",
       "      <td>-1</td>\n",
       "      <td>0</td>\n",
       "      <td>unknown</td>\n",
       "      <td>yes</td>\n",
       "    </tr>\n",
       "  </tbody>\n",
       "</table>\n",
       "</div>"
      ],
      "text/plain": [
       "     age         job  marital  education default  balance housing loan  \\\n",
       "83    59      admin.  married  secondary      no     2343     yes   no   \n",
       "86    56      admin.  married  secondary      no       45      no   no   \n",
       "87    41  technician  married  secondary      no     1270     yes   no   \n",
       "129   55    services  married  secondary      no     2476     yes   no   \n",
       "168   54      admin.  married   tertiary      no      184      no   no   \n",
       "\n",
       "     contact  day month  duration  campaign  pdays  previous poutcome  \\\n",
       "83   unknown    5   may      1042         1     -1         0  unknown   \n",
       "86   unknown    5   may      1467         1     -1         0  unknown   \n",
       "87   unknown    5   may      1389         1     -1         0  unknown   \n",
       "129  unknown    5   may       579         1     -1         0  unknown   \n",
       "168  unknown    5   may       673         2     -1         0  unknown   \n",
       "\n",
       "    subscribed  \n",
       "83         yes  \n",
       "86         yes  \n",
       "87         yes  \n",
       "129        yes  \n",
       "168        yes  "
      ]
     },
     "execution_count": 6,
     "metadata": {},
     "output_type": "execute_result"
    }
   ],
   "source": [
    "sub_df.head()"
   ]
  },
  {
   "cell_type": "code",
   "execution_count": 7,
   "metadata": {},
   "outputs": [
    {
     "data": {
      "text/plain": [
       "age           0\n",
       "job           0\n",
       "marital       0\n",
       "education     0\n",
       "default       0\n",
       "balance       0\n",
       "housing       0\n",
       "loan          0\n",
       "contact       0\n",
       "day           0\n",
       "month         0\n",
       "duration      0\n",
       "campaign      0\n",
       "pdays         0\n",
       "previous      0\n",
       "poutcome      0\n",
       "subscribed    0\n",
       "dtype: int64"
      ]
     },
     "execution_count": 7,
     "metadata": {},
     "output_type": "execute_result"
    }
   ],
   "source": [
    "df.isnull().sum()"
   ]
  },
  {
   "cell_type": "code",
   "execution_count": 8,
   "metadata": {},
   "outputs": [
    {
     "data": {
      "text/plain": [
       "age             77\n",
       "job             12\n",
       "marital          3\n",
       "education        4\n",
       "default          2\n",
       "balance       7168\n",
       "housing          2\n",
       "loan             2\n",
       "contact          3\n",
       "day             31\n",
       "month           12\n",
       "duration      1573\n",
       "campaign        48\n",
       "pdays          559\n",
       "previous        41\n",
       "poutcome         4\n",
       "subscribed       2\n",
       "dtype: int64"
      ]
     },
     "execution_count": 8,
     "metadata": {},
     "output_type": "execute_result"
    }
   ],
   "source": [
    "df.nunique()"
   ]
  },
  {
   "cell_type": "code",
   "execution_count": 9,
   "metadata": {},
   "outputs": [
    {
     "data": {
      "text/plain": [
       "no     39922\n",
       "yes     5289\n",
       "Name: subscribed, dtype: int64"
      ]
     },
     "execution_count": 9,
     "metadata": {},
     "output_type": "execute_result"
    }
   ],
   "source": [
    "df['subscribed'].value_counts()"
   ]
  },
  {
   "cell_type": "code",
   "execution_count": 10,
   "metadata": {},
   "outputs": [
    {
     "data": {
      "text/plain": [
       "(45211, 17)"
      ]
     },
     "execution_count": 10,
     "metadata": {},
     "output_type": "execute_result"
    }
   ],
   "source": [
    "df.shape"
   ]
  },
  {
   "cell_type": "code",
   "execution_count": 11,
   "metadata": {},
   "outputs": [],
   "source": [
    "df = df.drop_duplicates()"
   ]
  },
  {
   "cell_type": "code",
   "execution_count": 12,
   "metadata": {},
   "outputs": [
    {
     "data": {
      "text/plain": [
       "(45211, 17)"
      ]
     },
     "execution_count": 12,
     "metadata": {},
     "output_type": "execute_result"
    }
   ],
   "source": [
    "df.shape"
   ]
  },
  {
   "cell_type": "code",
   "execution_count": 13,
   "metadata": {},
   "outputs": [],
   "source": [
    "non_scaled = df[['age', 'balance', 'duration']]"
   ]
  },
  {
   "cell_type": "code",
   "execution_count": 14,
   "metadata": {},
   "outputs": [
    {
     "data": {
      "image/png": "[encoded data removed]",
      "text/plain": [
       "<Figure size 432x288 with 1 Axes>"
      ]
     },
     "metadata": {
      "needs_background": "light"
     },
     "output_type": "display_data"
    }
   ],
   "source": [
    "sns.boxplot(x = 'subscribed', y='balance', data=df).set(title='Balance of Those Who Subscribed vs Those Who Did Not')\n",
    "plt.show()"
   ]
  },
  {
   "cell_type": "code",
   "execution_count": 15,
   "metadata": {},
   "outputs": [
    {
     "data": {
      "image/png": "[encoded data removed]",
      "text/plain": [
       "<Figure size 432x288 with 1 Axes>"
      ]
     },
     "metadata": {
      "needs_background": "light"
     },
     "output_type": "display_data"
    }
   ],
   "source": [
    "sns.boxplot(x = 'subscribed', y='duration', data=df).set(title='Duration of Successful vs Unsuccessful Campaigns')\n",
    "plt.show()"
   ]
  },
  {
   "cell_type": "code",
   "execution_count": 16,
   "metadata": {},
   "outputs": [],
   "source": [
    "age_df = df.groupby('subscribed', as_index=False)['age'].mean()"
   ]
  },
  {
   "cell_type": "code",
   "execution_count": 17,
   "metadata": {},
   "outputs": [
    {
     "data": {
      "image/png": "[encoded data removed]",
      "text/plain": [
       "<Figure size 432x288 with 1 Axes>"
      ]
     },
     "metadata": {
      "needs_background": "light"
     },
     "output_type": "display_data"
    }
   ],
   "source": [
    "error=0.75\n",
    "fig, ax = plt.subplots()\n",
    "ax.bar(age_df['subscribed'], age_df['age'],\n",
    "       yerr=error,\n",
    "       align='center',\n",
    "       alpha=0.5,\n",
    "       ecolor='black',\n",
    "       capsize=10)\n",
    "\n",
    "labels = ['Did Not Subscribe', 'Subscribed']\n",
    "ax.set_xticks(age_df['subscribed'])\n",
    "ax.set_xticklabels(labels)\n",
    "ax.set_title('Average Age of Those Who Subscribed vs Those Who Did Not')\n",
    "ax.yaxis.grid(True)\n",
    "\n",
    "plt.tight_layout()\n",
    "plt.savefig('bar_plot_with_error_bars.png')\n",
    "plt.show()"
   ]
  },
  {
   "cell_type": "code",
   "execution_count": 18,
   "metadata": {},
   "outputs": [],
   "source": [
    "subscribed_df = df[df['subscribed']=='yes']\n",
    "did_not_subscribe_df = df[df['subscribed']=='no']"
   ]
  },
  {
   "cell_type": "code",
   "execution_count": 19,
   "metadata": {},
   "outputs": [
    {
     "data": {
      "image/png": "[encoded data removed]",
      "text/plain": [
       "<Figure size 432x288 with 1 Axes>"
      ]
     },
     "metadata": {
      "needs_background": "light"
     },
     "output_type": "display_data"
    }
   ],
   "source": [
    "x, y, hue = \"job\", \"proportion\", \"subscribed\"\n",
    "hue_order = [\"yes\", \"no\"]\n",
    "\n",
    "ax = (df[x]\n",
    " .groupby(df[hue])\n",
    " .value_counts(normalize=True)\n",
    " .rename(y)\n",
    " .reset_index()\n",
    " .pipe((sns.barplot, \"data\"), x=x, y=y, hue=hue))\n",
    "\n",
    "for tick in ax.get_xticklabels():\n",
    "    tick.set_rotation(90)\n",
    "    \n",
    "plt.show()"
   ]
  },
  {
   "cell_type": "code",
   "execution_count": 20,
   "metadata": {},
   "outputs": [
    {
     "data": {
      "image/png": "[encoded data removed]",
      "text/plain": [
       "<Figure size 432x288 with 1 Axes>"
      ]
     },
     "metadata": {
      "needs_background": "light"
     },
     "output_type": "display_data"
    }
   ],
   "source": [
    "x, y, hue = \"marital\", \"proportion\", \"subscribed\"\n",
    "hue_order = [\"yes\", \"no\"]\n",
    "\n",
    "ax = (df[x]\n",
    " .groupby(df[hue])\n",
    " .value_counts(normalize=True)\n",
    " .rename(y)\n",
    " .reset_index()\n",
    " .pipe((sns.barplot, \"data\"), x=x, y=y, hue=hue))\n",
    "\n",
    "for tick in ax.get_xticklabels():\n",
    "    tick.set_rotation(90)\n",
    "    \n",
    "plt.show()"
   ]
  },
  {
   "cell_type": "code",
   "execution_count": 21,
   "metadata": {},
   "outputs": [
    {
     "data": {
      "image/png": "[encoded data removed]",
      "text/plain": [
       "<Figure size 432x288 with 1 Axes>"
      ]
     },
     "metadata": {
      "needs_background": "light"
     },
     "output_type": "display_data"
    }
   ],
   "source": [
    "x, y, hue = \"education\", \"proportion\", \"subscribed\"\n",
    "hue_order = [\"yes\", \"no\"]\n",
    "\n",
    "ax = (df[x]\n",
    " .groupby(df[hue])\n",
    " .value_counts(normalize=True)\n",
    " .rename(y)\n",
    " .reset_index()\n",
    " .pipe((sns.barplot, \"data\"), x=x, y=y, hue=hue))\n",
    "\n",
    "for tick in ax.get_xticklabels():\n",
    "    tick.set_rotation(90)\n",
    "    \n",
    "plt.show()"
   ]
  },
  {
   "cell_type": "code",
   "execution_count": 22,
   "metadata": {},
   "outputs": [
    {
     "data": {
      "image/png": "[encoded data removed]",
      "text/plain": [
       "<Figure size 432x288 with 1 Axes>"
      ]
     },
     "metadata": {
      "needs_background": "light"
     },
     "output_type": "display_data"
    }
   ],
   "source": [
    "x, y, hue = \"default\", \"proportion\", \"subscribed\"\n",
    "hue_order = [\"yes\", \"no\"]\n",
    "\n",
    "ax = (df[x]\n",
    " .groupby(df[hue])\n",
    " .value_counts(normalize=True)\n",
    " .rename(y)\n",
    " .reset_index()\n",
    " .pipe((sns.barplot, \"data\"), x=x, y=y, hue=hue))\n",
    "\n",
    "for tick in ax.get_xticklabels():\n",
    "    tick.set_rotation(90)\n",
    "    \n",
    "plt.show()"
   ]
  },
  {
   "cell_type": "code",
   "execution_count": 23,
   "metadata": {},
   "outputs": [],
   "source": [
    "balance_df = df.groupby('subscribed', as_index=False)['balance'].mean()"
   ]
  },
  {
   "cell_type": "code",
   "execution_count": 24,
   "metadata": {},
   "outputs": [
    {
     "data": {
      "image/png": "[encoded data removed]",
      "text/plain": [
       "<Figure size 432x288 with 1 Axes>"
      ]
     },
     "metadata": {
      "needs_background": "light"
     },
     "output_type": "display_data"
    }
   ],
   "source": [
    "error=0.75\n",
    "fig, ax = plt.subplots()\n",
    "ax.bar(balance_df['subscribed'], balance_df['balance'],\n",
    "       yerr=error,\n",
    "       align='center',\n",
    "       alpha=0.5,\n",
    "       ecolor='black',\n",
    "       capsize=10)\n",
    "\n",
    "labels = ['Did Not Subscribe', 'Subscribed']\n",
    "ax.set_xticks(balance_df['subscribed'])\n",
    "ax.set_xticklabels(labels)\n",
    "ax.set_title('Average Balance of Those Who Subscribed vs Those Who Did Not')\n",
    "ax.yaxis.grid(True)\n",
    "\n",
    "plt.tight_layout()\n",
    "plt.savefig('bar_plot_with_error_bars.png')\n",
    "plt.show()"
   ]
  },
  {
   "cell_type": "code",
   "execution_count": 25,
   "metadata": {},
   "outputs": [
    {
     "data": {
      "image/png": "[encoded data removed]",
      "text/plain": [
       "<Figure size 432x288 with 1 Axes>"
      ]
     },
     "metadata": {
      "needs_background": "light"
     },
     "output_type": "display_data"
    }
   ],
   "source": [
    "x, y, hue = \"housing\", \"proportion\", \"subscribed\"\n",
    "hue_order = [\"yes\", \"no\"]\n",
    "\n",
    "ax = (df[x]\n",
    " .groupby(df[hue])\n",
    " .value_counts(normalize=True)\n",
    " .rename(y)\n",
    " .reset_index()\n",
    " .pipe((sns.barplot, \"data\"), x=x, y=y, hue=hue))\n",
    "\n",
    "for tick in ax.get_xticklabels():\n",
    "    tick.set_rotation(90)\n",
    "    \n",
    "plt.show()"
   ]
  },
  {
   "cell_type": "code",
   "execution_count": 26,
   "metadata": {},
   "outputs": [
    {
     "data": {
      "image/png": "[encoded data removed]",
      "text/plain": [
       "<Figure size 432x288 with 1 Axes>"
      ]
     },
     "metadata": {
      "needs_background": "light"
     },
     "output_type": "display_data"
    }
   ],
   "source": [
    "x, y, hue = \"loan\", \"proportion\", \"subscribed\"\n",
    "hue_order = [\"yes\", \"no\"]\n",
    "\n",
    "ax = (df[x]\n",
    " .groupby(df[hue])\n",
    " .value_counts(normalize=True)\n",
    " .rename(y)\n",
    " .reset_index()\n",
    " .pipe((sns.barplot, \"data\"), x=x, y=y, hue=hue))\n",
    "\n",
    "for tick in ax.get_xticklabels():\n",
    "    tick.set_rotation(90)\n",
    "    \n",
    "plt.show()"
   ]
  },
  {
   "cell_type": "code",
   "execution_count": 27,
   "metadata": {},
   "outputs": [
    {
     "data": {
      "image/png": "[encoded data removed]",
      "text/plain": [
       "<Figure size 432x288 with 1 Axes>"
      ]
     },
     "metadata": {
      "needs_background": "light"
     },
     "output_type": "display_data"
    }
   ],
   "source": [
    "x, y, hue = \"contact\", \"proportion\", \"subscribed\"\n",
    "hue_order = [\"yes\", \"no\"]\n",
    "\n",
    "ax = (df[x]\n",
    " .groupby(df[hue])\n",
    " .value_counts(normalize=True)\n",
    " .rename(y)\n",
    " .reset_index()\n",
    " .pipe((sns.barplot, \"data\"), x=x, y=y, hue=hue))\n",
    "\n",
    "for tick in ax.get_xticklabels():\n",
    "    tick.set_rotation(90)\n",
    "    \n",
    "plt.show()"
   ]
  },
  {
   "cell_type": "code",
   "execution_count": 28,
   "metadata": {},
   "outputs": [
    {
     "data": {
      "image/png": "[encoded data removed]",
      "text/plain": [
       "<Figure size 792x360 with 2 Axes>"
      ]
     },
     "metadata": {
      "needs_background": "light"
     },
     "output_type": "display_data"
    }
   ],
   "source": [
    "fig, ax =plt.subplots(1,2, figsize=(11, 5))\n",
    "ax1 = subscribed_df['day'].hist(bins=30, grid=False, ax=ax[0])\n",
    "ax2 = did_not_subscribe_df['day'].hist(bins=30, grid=False, ax=ax[1])"
   ]
  },
  {
   "cell_type": "code",
   "execution_count": 29,
   "metadata": {},
   "outputs": [
    {
     "data": {
      "image/png": "[encoded data removed]",
      "text/plain": [
       "<Figure size 432x288 with 1 Axes>"
      ]
     },
     "metadata": {
      "needs_background": "light"
     },
     "output_type": "display_data"
    }
   ],
   "source": [
    "x, y, hue = \"month\", \"proportion\", \"subscribed\"\n",
    "hue_order = [\"yes\", \"no\"]\n",
    "\n",
    "ax = (df[x]\n",
    " .groupby(df[hue])\n",
    " .value_counts(normalize=True)\n",
    " .rename(y)\n",
    " .reset_index()\n",
    " .pipe((sns.barplot, \"data\"), x=x, y=y, hue=hue))\n",
    "\n",
    "for tick in ax.get_xticklabels():\n",
    "    tick.set_rotation(90)\n",
    "    \n",
    "plt.show()"
   ]
  },
  {
   "cell_type": "code",
   "execution_count": 30,
   "metadata": {},
   "outputs": [],
   "source": [
    "duration_df = df.groupby('subscribed', as_index=False)['duration'].mean()"
   ]
  },
  {
   "cell_type": "code",
   "execution_count": 31,
   "metadata": {},
   "outputs": [
    {
     "data": {
      "image/png": "[encoded data removed]",
      "text/plain": [
       "<Figure size 432x288 with 1 Axes>"
      ]
     },
     "metadata": {
      "needs_background": "light"
     },
     "output_type": "display_data"
    }
   ],
   "source": [
    "error=0.75\n",
    "fig, ax = plt.subplots()\n",
    "ax.bar(duration_df['subscribed'], duration_df['duration'],\n",
    "       yerr=error,\n",
    "       align='center',\n",
    "       alpha=0.5,\n",
    "       ecolor='black',\n",
    "       capsize=10)\n",
    "\n",
    "labels = ['Did Not Subscribe', 'Subscribed']\n",
    "ax.set_xticks(balance_df['subscribed'])\n",
    "ax.set_xticklabels(labels)\n",
    "ax.set_title('Average Duration of Those Who Subscribed vs Those Who Did Not')\n",
    "ax.yaxis.grid(True)\n",
    "\n",
    "plt.tight_layout()\n",
    "plt.savefig('bar_plot_with_error_bars.png')\n",
    "plt.show()"
   ]
  },
  {
   "cell_type": "code",
   "execution_count": 32,
   "metadata": {
    "scrolled": true
   },
   "outputs": [
    {
     "data": {
      "image/png": "[encoded data removed]",
      "text/plain": [
       "<Figure size 432x288 with 1 Axes>"
      ]
     },
     "metadata": {
      "needs_background": "light"
     },
     "output_type": "display_data"
    }
   ],
   "source": [
    "x, y, hue = \"poutcome\", \"proportion\", \"subscribed\"\n",
    "hue_order = [\"yes\", \"no\"]\n",
    "\n",
    "ax = (df[x]\n",
    " .groupby(df[hue])\n",
    " .value_counts(normalize=True)\n",
    " .rename(y)\n",
    " .reset_index()\n",
    " .pipe((sns.barplot, \"data\"), x=x, y=y, hue=hue))\n",
    "\n",
    "for tick in ax.get_xticklabels():\n",
    "    tick.set_rotation(90)\n",
    "    \n",
    "plt.show()"
   ]
  },
  {
   "cell_type": "code",
   "execution_count": 33,
   "metadata": {},
   "outputs": [
    {
     "data": {
      "image/png": "[encoded data removed]",
      "text/plain": [
       "<Figure size 432x288 with 2 Axes>"
      ]
     },
     "metadata": {
      "needs_background": "light"
     },
     "output_type": "display_data"
    }
   ],
   "source": [
    "correlation_mat = df.corr()\n",
    "\n",
    "sns.heatmap(correlation_mat, annot = True)\n",
    "\n",
    "plt.show()"
   ]
  },
  {
   "cell_type": "markdown",
   "metadata": {},
   "source": [
    "**Scale Continuous Variables**"
   ]
  },
  {
   "cell_type": "code",
   "execution_count": 34,
   "metadata": {},
   "outputs": [
    {
     "data": {
      "text/html": [
       "<div>\n",
       "<style scoped>\n",
       "    .dataframe tbody tr th:only-of-type {\n",
       "        vertical-align: middle;\n",
       "    }\n",
       "\n",
       "    .dataframe tbody tr th {\n",
       "        vertical-align: top;\n",
       "    }\n",
       "\n",
       "    .dataframe thead th {\n",
       "        text-align: right;\n",
       "    }\n",
       "</style>\n",
       "<table border=\"1\" class=\"dataframe\">\n",
       "  <thead>\n",
       "    <tr style=\"text-align: right;\">\n",
       "      <th></th>\n",
       "      <th>job_admin.</th>\n",
       "      <th>job_blue-collar</th>\n",
       "      <th>job_entrepreneur</th>\n",
       "      <th>job_housemaid</th>\n",
       "      <th>job_management</th>\n",
       "      <th>job_retired</th>\n",
       "      <th>job_self-employed</th>\n",
       "      <th>job_services</th>\n",
       "      <th>job_student</th>\n",
       "      <th>job_technician</th>\n",
       "      <th>...</th>\n",
       "      <th>month_jun</th>\n",
       "      <th>month_mar</th>\n",
       "      <th>month_may</th>\n",
       "      <th>month_nov</th>\n",
       "      <th>month_oct</th>\n",
       "      <th>month_sep</th>\n",
       "      <th>poutcome_failure</th>\n",
       "      <th>poutcome_other</th>\n",
       "      <th>poutcome_success</th>\n",
       "      <th>poutcome_unknown</th>\n",
       "    </tr>\n",
       "  </thead>\n",
       "  <tbody>\n",
       "    <tr>\n",
       "      <th>0</th>\n",
       "      <td>0</td>\n",
       "      <td>0</td>\n",
       "      <td>0</td>\n",
       "      <td>0</td>\n",
       "      <td>1</td>\n",
       "      <td>0</td>\n",
       "      <td>0</td>\n",
       "      <td>0</td>\n",
       "      <td>0</td>\n",
       "      <td>0</td>\n",
       "      <td>...</td>\n",
       "      <td>0</td>\n",
       "      <td>0</td>\n",
       "      <td>1</td>\n",
       "      <td>0</td>\n",
       "      <td>0</td>\n",
       "      <td>0</td>\n",
       "      <td>0</td>\n",
       "      <td>0</td>\n",
       "      <td>0</td>\n",
       "      <td>1</td>\n",
       "    </tr>\n",
       "    <tr>\n",
       "      <th>1</th>\n",
       "      <td>0</td>\n",
       "      <td>0</td>\n",
       "      <td>0</td>\n",
       "      <td>0</td>\n",
       "      <td>0</td>\n",
       "      <td>0</td>\n",
       "      <td>0</td>\n",
       "      <td>0</td>\n",
       "      <td>0</td>\n",
       "      <td>1</td>\n",
       "      <td>...</td>\n",
       "      <td>0</td>\n",
       "      <td>0</td>\n",
       "      <td>1</td>\n",
       "      <td>0</td>\n",
       "      <td>0</td>\n",
       "      <td>0</td>\n",
       "      <td>0</td>\n",
       "      <td>0</td>\n",
       "      <td>0</td>\n",
       "      <td>1</td>\n",
       "    </tr>\n",
       "    <tr>\n",
       "      <th>2</th>\n",
       "      <td>0</td>\n",
       "      <td>0</td>\n",
       "      <td>1</td>\n",
       "      <td>0</td>\n",
       "      <td>0</td>\n",
       "      <td>0</td>\n",
       "      <td>0</td>\n",
       "      <td>0</td>\n",
       "      <td>0</td>\n",
       "      <td>0</td>\n",
       "      <td>...</td>\n",
       "      <td>0</td>\n",
       "      <td>0</td>\n",
       "      <td>1</td>\n",
       "      <td>0</td>\n",
       "      <td>0</td>\n",
       "      <td>0</td>\n",
       "      <td>0</td>\n",
       "      <td>0</td>\n",
       "      <td>0</td>\n",
       "      <td>1</td>\n",
       "    </tr>\n",
       "    <tr>\n",
       "      <th>3</th>\n",
       "      <td>0</td>\n",
       "      <td>1</td>\n",
       "      <td>0</td>\n",
       "      <td>0</td>\n",
       "      <td>0</td>\n",
       "      <td>0</td>\n",
       "      <td>0</td>\n",
       "      <td>0</td>\n",
       "      <td>0</td>\n",
       "      <td>0</td>\n",
       "      <td>...</td>\n",
       "      <td>0</td>\n",
       "      <td>0</td>\n",
       "      <td>1</td>\n",
       "      <td>0</td>\n",
       "      <td>0</td>\n",
       "      <td>0</td>\n",
       "      <td>0</td>\n",
       "      <td>0</td>\n",
       "      <td>0</td>\n",
       "      <td>1</td>\n",
       "    </tr>\n",
       "    <tr>\n",
       "      <th>4</th>\n",
       "      <td>0</td>\n",
       "      <td>0</td>\n",
       "      <td>0</td>\n",
       "      <td>0</td>\n",
       "      <td>0</td>\n",
       "      <td>0</td>\n",
       "      <td>0</td>\n",
       "      <td>0</td>\n",
       "      <td>0</td>\n",
       "      <td>0</td>\n",
       "      <td>...</td>\n",
       "      <td>0</td>\n",
       "      <td>0</td>\n",
       "      <td>1</td>\n",
       "      <td>0</td>\n",
       "      <td>0</td>\n",
       "      <td>0</td>\n",
       "      <td>0</td>\n",
       "      <td>0</td>\n",
       "      <td>0</td>\n",
       "      <td>1</td>\n",
       "    </tr>\n",
       "  </tbody>\n",
       "</table>\n",
       "<p>5 rows × 44 columns</p>\n",
       "</div>"
      ],
      "text/plain": [
       "   job_admin.  job_blue-collar  job_entrepreneur  job_housemaid  \\\n",
       "0           0                0                 0              0   \n",
       "1           0                0                 0              0   \n",
       "2           0                0                 1              0   \n",
       "3           0                1                 0              0   \n",
       "4           0                0                 0              0   \n",
       "\n",
       "   job_management  job_retired  job_self-employed  job_services  job_student  \\\n",
       "0               1            0                  0             0            0   \n",
       "1               0            0                  0             0            0   \n",
       "2               0            0                  0             0            0   \n",
       "3               0            0                  0             0            0   \n",
       "4               0            0                  0             0            0   \n",
       "\n",
       "   job_technician  ...  month_jun  month_mar  month_may  month_nov  month_oct  \\\n",
       "0               0  ...          0          0          1          0          0   \n",
       "1               1  ...          0          0          1          0          0   \n",
       "2               0  ...          0          0          1          0          0   \n",
       "3               0  ...          0          0          1          0          0   \n",
       "4               0  ...          0          0          1          0          0   \n",
       "\n",
       "   month_sep  poutcome_failure  poutcome_other  poutcome_success  \\\n",
       "0          0                 0               0                 0   \n",
       "1          0                 0               0                 0   \n",
       "2          0                 0               0                 0   \n",
       "3          0                 0               0                 0   \n",
       "4          0                 0               0                 0   \n",
       "\n",
       "   poutcome_unknown  \n",
       "0                 1  \n",
       "1                 1  \n",
       "2                 1  \n",
       "3                 1  \n",
       "4                 1  \n",
       "\n",
       "[5 rows x 44 columns]"
      ]
     },
     "execution_count": 34,
     "metadata": {},
     "output_type": "execute_result"
    }
   ],
   "source": [
    "dummy_df = pd.get_dummies(df[['job', 'marital', 'education', 'default', 'housing', 'loan', 'contact', 'month', 'poutcome']])\n",
    "dummy_df.head()"
   ]
  },
  {
   "cell_type": "code",
   "execution_count": 35,
   "metadata": {},
   "outputs": [],
   "source": [
    "df['subscribed'] = df.subscribed.map(dict(yes=1, no=0))"
   ]
  },
  {
   "cell_type": "code",
   "execution_count": 36,
   "metadata": {},
   "outputs": [
    {
     "data": {
      "text/plain": [
       "['age',\n",
       " 'balance',\n",
       " 'duration',\n",
       " 'job_admin.',\n",
       " 'job_blue-collar',\n",
       " 'job_entrepreneur',\n",
       " 'job_housemaid',\n",
       " 'job_management',\n",
       " 'job_retired',\n",
       " 'job_self-employed',\n",
       " 'job_services',\n",
       " 'job_student',\n",
       " 'job_technician',\n",
       " 'job_unemployed',\n",
       " 'job_unknown',\n",
       " 'marital_divorced',\n",
       " 'marital_married',\n",
       " 'marital_single',\n",
       " 'education_primary',\n",
       " 'education_secondary',\n",
       " 'education_tertiary',\n",
       " 'education_unknown',\n",
       " 'default_no',\n",
       " 'default_yes',\n",
       " 'housing_no',\n",
       " 'housing_yes',\n",
       " 'loan_no',\n",
       " 'loan_yes',\n",
       " 'contact_cellular',\n",
       " 'contact_telephone',\n",
       " 'contact_unknown',\n",
       " 'month_apr',\n",
       " 'month_aug',\n",
       " 'month_dec',\n",
       " 'month_feb',\n",
       " 'month_jan',\n",
       " 'month_jul',\n",
       " 'month_jun',\n",
       " 'month_mar',\n",
       " 'month_may',\n",
       " 'month_nov',\n",
       " 'month_oct',\n",
       " 'month_sep',\n",
       " 'poutcome_failure',\n",
       " 'poutcome_other',\n",
       " 'poutcome_success',\n",
       " 'poutcome_unknown',\n",
       " 'subscribed']"
      ]
     },
     "execution_count": 36,
     "metadata": {},
     "output_type": "execute_result"
    }
   ],
   "source": [
    "df = pd.concat([non_scaled, dummy_df, df['subscribed']], axis=1)\n",
    "list(df.columns)"
   ]
  },
  {
   "cell_type": "code",
   "execution_count": 37,
   "metadata": {},
   "outputs": [
    {
     "data": {
      "text/html": [
       "<div>\n",
       "<style scoped>\n",
       "    .dataframe tbody tr th:only-of-type {\n",
       "        vertical-align: middle;\n",
       "    }\n",
       "\n",
       "    .dataframe tbody tr th {\n",
       "        vertical-align: top;\n",
       "    }\n",
       "\n",
       "    .dataframe thead th {\n",
       "        text-align: right;\n",
       "    }\n",
       "</style>\n",
       "<table border=\"1\" class=\"dataframe\">\n",
       "  <thead>\n",
       "    <tr style=\"text-align: right;\">\n",
       "      <th></th>\n",
       "      <th>age</th>\n",
       "      <th>balance</th>\n",
       "      <th>duration</th>\n",
       "      <th>job_admin.</th>\n",
       "      <th>job_blue-collar</th>\n",
       "      <th>job_entrepreneur</th>\n",
       "      <th>job_housemaid</th>\n",
       "      <th>job_management</th>\n",
       "      <th>job_retired</th>\n",
       "      <th>job_self-employed</th>\n",
       "      <th>...</th>\n",
       "      <th>month_mar</th>\n",
       "      <th>month_may</th>\n",
       "      <th>month_nov</th>\n",
       "      <th>month_oct</th>\n",
       "      <th>month_sep</th>\n",
       "      <th>poutcome_failure</th>\n",
       "      <th>poutcome_other</th>\n",
       "      <th>poutcome_success</th>\n",
       "      <th>poutcome_unknown</th>\n",
       "      <th>subscribed</th>\n",
       "    </tr>\n",
       "  </thead>\n",
       "  <tbody>\n",
       "    <tr>\n",
       "      <th>0</th>\n",
       "      <td>58</td>\n",
       "      <td>2143</td>\n",
       "      <td>261</td>\n",
       "      <td>0</td>\n",
       "      <td>0</td>\n",
       "      <td>0</td>\n",
       "      <td>0</td>\n",
       "      <td>1</td>\n",
       "      <td>0</td>\n",
       "      <td>0</td>\n",
       "      <td>...</td>\n",
       "      <td>0</td>\n",
       "      <td>1</td>\n",
       "      <td>0</td>\n",
       "      <td>0</td>\n",
       "      <td>0</td>\n",
       "      <td>0</td>\n",
       "      <td>0</td>\n",
       "      <td>0</td>\n",
       "      <td>1</td>\n",
       "      <td>0</td>\n",
       "    </tr>\n",
       "    <tr>\n",
       "      <th>1</th>\n",
       "      <td>44</td>\n",
       "      <td>29</td>\n",
       "      <td>151</td>\n",
       "      <td>0</td>\n",
       "      <td>0</td>\n",
       "      <td>0</td>\n",
       "      <td>0</td>\n",
       "      <td>0</td>\n",
       "      <td>0</td>\n",
       "      <td>0</td>\n",
       "      <td>...</td>\n",
       "      <td>0</td>\n",
       "      <td>1</td>\n",
       "      <td>0</td>\n",
       "      <td>0</td>\n",
       "      <td>0</td>\n",
       "      <td>0</td>\n",
       "      <td>0</td>\n",
       "      <td>0</td>\n",
       "      <td>1</td>\n",
       "      <td>0</td>\n",
       "    </tr>\n",
       "    <tr>\n",
       "      <th>2</th>\n",
       "      <td>33</td>\n",
       "      <td>2</td>\n",
       "      <td>76</td>\n",
       "      <td>0</td>\n",
       "      <td>0</td>\n",
       "      <td>1</td>\n",
       "      <td>0</td>\n",
       "      <td>0</td>\n",
       "      <td>0</td>\n",
       "      <td>0</td>\n",
       "      <td>...</td>\n",
       "      <td>0</td>\n",
       "      <td>1</td>\n",
       "      <td>0</td>\n",
       "      <td>0</td>\n",
       "      <td>0</td>\n",
       "      <td>0</td>\n",
       "      <td>0</td>\n",
       "      <td>0</td>\n",
       "      <td>1</td>\n",
       "      <td>0</td>\n",
       "    </tr>\n",
       "    <tr>\n",
       "      <th>3</th>\n",
       "      <td>47</td>\n",
       "      <td>1506</td>\n",
       "      <td>92</td>\n",
       "      <td>0</td>\n",
       "      <td>1</td>\n",
       "      <td>0</td>\n",
       "      <td>0</td>\n",
       "      <td>0</td>\n",
       "      <td>0</td>\n",
       "      <td>0</td>\n",
       "      <td>...</td>\n",
       "      <td>0</td>\n",
       "      <td>1</td>\n",
       "      <td>0</td>\n",
       "      <td>0</td>\n",
       "      <td>0</td>\n",
       "      <td>0</td>\n",
       "      <td>0</td>\n",
       "      <td>0</td>\n",
       "      <td>1</td>\n",
       "      <td>0</td>\n",
       "    </tr>\n",
       "    <tr>\n",
       "      <th>4</th>\n",
       "      <td>33</td>\n",
       "      <td>1</td>\n",
       "      <td>198</td>\n",
       "      <td>0</td>\n",
       "      <td>0</td>\n",
       "      <td>0</td>\n",
       "      <td>0</td>\n",
       "      <td>0</td>\n",
       "      <td>0</td>\n",
       "      <td>0</td>\n",
       "      <td>...</td>\n",
       "      <td>0</td>\n",
       "      <td>1</td>\n",
       "      <td>0</td>\n",
       "      <td>0</td>\n",
       "      <td>0</td>\n",
       "      <td>0</td>\n",
       "      <td>0</td>\n",
       "      <td>0</td>\n",
       "      <td>1</td>\n",
       "      <td>0</td>\n",
       "    </tr>\n",
       "  </tbody>\n",
       "</table>\n",
       "<p>5 rows × 48 columns</p>\n",
       "</div>"
      ],
      "text/plain": [
       "   age  balance  duration  job_admin.  job_blue-collar  job_entrepreneur  \\\n",
       "0   58     2143       261           0                0                 0   \n",
       "1   44       29       151           0                0                 0   \n",
       "2   33        2        76           0                0                 1   \n",
       "3   47     1506        92           0                1                 0   \n",
       "4   33        1       198           0                0                 0   \n",
       "\n",
       "   job_housemaid  job_management  job_retired  job_self-employed  ...  \\\n",
       "0              0               1            0                  0  ...   \n",
       "1              0               0            0                  0  ...   \n",
       "2              0               0            0                  0  ...   \n",
       "3              0               0            0                  0  ...   \n",
       "4              0               0            0                  0  ...   \n",
       "\n",
       "   month_mar  month_may  month_nov  month_oct  month_sep  poutcome_failure  \\\n",
       "0          0          1          0          0          0                 0   \n",
       "1          0          1          0          0          0                 0   \n",
       "2          0          1          0          0          0                 0   \n",
       "3          0          1          0          0          0                 0   \n",
       "4          0          1          0          0          0                 0   \n",
       "\n",
       "   poutcome_other  poutcome_success  poutcome_unknown  subscribed  \n",
       "0               0                 0                 1           0  \n",
       "1               0                 0                 1           0  \n",
       "2               0                 0                 1           0  \n",
       "3               0                 0                 1           0  \n",
       "4               0                 0                 1           0  \n",
       "\n",
       "[5 rows x 48 columns]"
      ]
     },
     "execution_count": 37,
     "metadata": {},
     "output_type": "execute_result"
    }
   ],
   "source": [
    "df.head()"
   ]
  },
  {
   "cell_type": "code",
   "execution_count": 38,
   "metadata": {},
   "outputs": [
    {
     "name": "stdout",
     "output_type": "stream",
     "text": [
      "Warning: Maximum number of iterations has been exceeded.\n",
      "         Current function value: 0.239601\n",
      "         Iterations: 35\n"
     ]
    },
    {
     "name": "stderr",
     "output_type": "stream",
     "text": [
      "C:\\Users\\Owner\\Anaconda3\\lib\\site-packages\\statsmodels\\base\\model.py:512: ConvergenceWarning: Maximum Likelihood optimization failed to converge. Check mle_retvals\n",
      "  \"Check mle_retvals\", ConvergenceWarning)\n"
     ]
    }
   ],
   "source": [
    "Xtrain = df.drop(columns='subscribed')\n",
    "Xtrain = sm.add_constant(Xtrain)\n",
    "ytrain = df['subscribed']\n",
    "\n",
    "log_reg = sm.Logit(ytrain, Xtrain).fit() "
   ]
  },
  {
   "cell_type": "code",
   "execution_count": 39,
   "metadata": {},
   "outputs": [
    {
     "name": "stderr",
     "output_type": "stream",
     "text": [
      "C:\\Users\\Owner\\Anaconda3\\lib\\site-packages\\statsmodels\\base\\model.py:1286: RuntimeWarning: invalid value encountered in sqrt\n",
      "  bse_ = np.sqrt(np.diag(self.cov_params()))\n"
     ]
    },
    {
     "data": {
      "text/html": [
       "<table class=\"simpletable\">\n",
       "<caption>Logit Regression Results</caption>\n",
       "<tr>\n",
       "  <th>Dep. Variable:</th>      <td>subscribed</td>    <th>  No. Observations:  </th>  <td> 45211</td> \n",
       "</tr>\n",
       "<tr>\n",
       "  <th>Model:</th>                 <td>Logit</td>      <th>  Df Residuals:      </th>  <td> 45172</td> \n",
       "</tr>\n",
       "<tr>\n",
       "  <th>Method:</th>                 <td>MLE</td>       <th>  Df Model:          </th>  <td>    38</td> \n",
       "</tr>\n",
       "<tr>\n",
       "  <th>Date:</th>            <td>Wed, 27 Jan 2021</td> <th>  Pseudo R-squ.:     </th>  <td>0.3361</td> \n",
       "</tr>\n",
       "<tr>\n",
       "  <th>Time:</th>                <td>15:20:20</td>     <th>  Log-Likelihood:    </th> <td> -10833.</td>\n",
       "</tr>\n",
       "<tr>\n",
       "  <th>converged:</th>             <td>False</td>      <th>  LL-Null:           </th> <td> -16315.</td>\n",
       "</tr>\n",
       "<tr>\n",
       "  <th>Covariance Type:</th>     <td>nonrobust</td>    <th>  LLR p-value:       </th>  <td> 0.000</td> \n",
       "</tr>\n",
       "</table>\n",
       "<table class=\"simpletable\">\n",
       "<tr>\n",
       "           <td></td>              <th>coef</th>     <th>std err</th>      <th>z</th>      <th>P>|z|</th>  <th>[0.025</th>    <th>0.975]</th>  \n",
       "</tr>\n",
       "<tr>\n",
       "  <th>const</th>               <td>    0.9233</td> <td> 1.29e+06</td> <td> 7.14e-07</td> <td> 1.000</td> <td>-2.54e+06</td> <td> 2.54e+06</td>\n",
       "</tr>\n",
       "<tr>\n",
       "  <th>age</th>                 <td> 7.288e-05</td> <td>    0.002</td> <td>    0.033</td> <td> 0.974</td> <td>   -0.004</td> <td>    0.004</td>\n",
       "</tr>\n",
       "<tr>\n",
       "  <th>balance</th>             <td> 1.291e-05</td> <td> 5.11e-06</td> <td>    2.526</td> <td> 0.012</td> <td>  2.9e-06</td> <td> 2.29e-05</td>\n",
       "</tr>\n",
       "<tr>\n",
       "  <th>duration</th>            <td>    0.0042</td> <td> 6.42e-05</td> <td>   65.101</td> <td> 0.000</td> <td>    0.004</td> <td>    0.004</td>\n",
       "</tr>\n",
       "<tr>\n",
       "  <th>job_admin.</th>          <td>   -1.6389</td> <td> 7.25e+06</td> <td>-2.26e-07</td> <td> 1.000</td> <td>-1.42e+07</td> <td> 1.42e+07</td>\n",
       "</tr>\n",
       "<tr>\n",
       "  <th>job_blue-collar</th>     <td>   -1.9526</td> <td> 7.32e+06</td> <td>-2.67e-07</td> <td> 1.000</td> <td>-1.43e+07</td> <td> 1.43e+07</td>\n",
       "</tr>\n",
       "<tr>\n",
       "  <th>job_entrepreneur</th>    <td>   -2.0107</td> <td> 7.51e+06</td> <td>-2.68e-07</td> <td> 1.000</td> <td>-1.47e+07</td> <td> 1.47e+07</td>\n",
       "</tr>\n",
       "<tr>\n",
       "  <th>job_housemaid</th>       <td>   -2.1295</td> <td> 7.19e+06</td> <td>-2.96e-07</td> <td> 1.000</td> <td>-1.41e+07</td> <td> 1.41e+07</td>\n",
       "</tr>\n",
       "<tr>\n",
       "  <th>job_management</th>      <td>   -1.8062</td> <td> 6.54e+06</td> <td>-2.76e-07</td> <td> 1.000</td> <td>-1.28e+07</td> <td> 1.28e+07</td>\n",
       "</tr>\n",
       "<tr>\n",
       "  <th>job_retired</th>         <td>   -1.3543</td> <td> 7.45e+06</td> <td>-1.82e-07</td> <td> 1.000</td> <td>-1.46e+07</td> <td> 1.46e+07</td>\n",
       "</tr>\n",
       "<tr>\n",
       "  <th>job_self-employed</th>   <td>   -1.9433</td> <td> 7.23e+06</td> <td>-2.69e-07</td> <td> 1.000</td> <td>-1.42e+07</td> <td> 1.42e+07</td>\n",
       "</tr>\n",
       "<tr>\n",
       "  <th>job_services</th>        <td>   -1.8684</td> <td>    7e+06</td> <td>-2.67e-07</td> <td> 1.000</td> <td>-1.37e+07</td> <td> 1.37e+07</td>\n",
       "</tr>\n",
       "<tr>\n",
       "  <th>job_student</th>         <td>   -1.2510</td> <td> 6.42e+06</td> <td>-1.95e-07</td> <td> 1.000</td> <td>-1.26e+07</td> <td> 1.26e+07</td>\n",
       "</tr>\n",
       "<tr>\n",
       "  <th>job_technician</th>      <td>   -1.8113</td> <td> 7.14e+06</td> <td>-2.54e-07</td> <td> 1.000</td> <td> -1.4e+07</td> <td>  1.4e+07</td>\n",
       "</tr>\n",
       "<tr>\n",
       "  <th>job_unemployed</th>      <td>   -1.8056</td> <td> 7.34e+06</td> <td>-2.46e-07</td> <td> 1.000</td> <td>-1.44e+07</td> <td> 1.44e+07</td>\n",
       "</tr>\n",
       "<tr>\n",
       "  <th>job_unknown</th>         <td>   -1.9824</td> <td>  7.4e+06</td> <td>-2.68e-07</td> <td> 1.000</td> <td>-1.45e+07</td> <td> 1.45e+07</td>\n",
       "</tr>\n",
       "<tr>\n",
       "  <th>marital_divorced</th>    <td>   -0.2373</td> <td>      nan</td> <td>      nan</td> <td>   nan</td> <td>      nan</td> <td>      nan</td>\n",
       "</tr>\n",
       "<tr>\n",
       "  <th>marital_married</th>     <td>   -0.4245</td> <td>      nan</td> <td>      nan</td> <td>   nan</td> <td>      nan</td> <td>      nan</td>\n",
       "</tr>\n",
       "<tr>\n",
       "  <th>marital_single</th>      <td>   -0.1439</td> <td>      nan</td> <td>      nan</td> <td>   nan</td> <td>      nan</td> <td>      nan</td>\n",
       "</tr>\n",
       "<tr>\n",
       "  <th>education_primary</th>   <td>   -0.4103</td> <td> 1.42e+06</td> <td> -2.9e-07</td> <td> 1.000</td> <td>-2.78e+06</td> <td> 2.78e+06</td>\n",
       "</tr>\n",
       "<tr>\n",
       "  <th>education_secondary</th> <td>   -0.2210</td> <td> 1.54e+06</td> <td>-1.44e-07</td> <td> 1.000</td> <td>-3.01e+06</td> <td> 3.01e+06</td>\n",
       "</tr>\n",
       "<tr>\n",
       "  <th>education_tertiary</th>  <td>   -0.0247</td> <td> 1.55e+06</td> <td>-1.59e-08</td> <td> 1.000</td> <td>-3.04e+06</td> <td> 3.04e+06</td>\n",
       "</tr>\n",
       "<tr>\n",
       "  <th>education_unknown</th>   <td>   -0.1498</td> <td> 1.78e+06</td> <td>-8.41e-08</td> <td> 1.000</td> <td>-3.49e+06</td> <td> 3.49e+06</td>\n",
       "</tr>\n",
       "<tr>\n",
       "  <th>default_no</th>          <td>   -0.3910</td> <td>      nan</td> <td>      nan</td> <td>   nan</td> <td>      nan</td> <td>      nan</td>\n",
       "</tr>\n",
       "<tr>\n",
       "  <th>default_yes</th>         <td>   -0.4147</td> <td>      nan</td> <td>      nan</td> <td>   nan</td> <td>      nan</td> <td>      nan</td>\n",
       "</tr>\n",
       "<tr>\n",
       "  <th>housing_no</th>          <td>   -0.0557</td> <td> 3.79e+06</td> <td>-1.47e-08</td> <td> 1.000</td> <td>-7.42e+06</td> <td> 7.42e+06</td>\n",
       "</tr>\n",
       "<tr>\n",
       "  <th>housing_yes</th>         <td>   -0.7500</td> <td> 3.48e+06</td> <td>-2.15e-07</td> <td> 1.000</td> <td>-6.83e+06</td> <td> 6.83e+06</td>\n",
       "</tr>\n",
       "<tr>\n",
       "  <th>loan_no</th>             <td>   -0.1888</td> <td>      nan</td> <td>      nan</td> <td>   nan</td> <td>      nan</td> <td>      nan</td>\n",
       "</tr>\n",
       "<tr>\n",
       "  <th>loan_yes</th>            <td>   -0.6170</td> <td>      nan</td> <td>      nan</td> <td>   nan</td> <td>      nan</td> <td>      nan</td>\n",
       "</tr>\n",
       "<tr>\n",
       "  <th>contact_cellular</th>    <td>    0.3425</td> <td> 7.14e+05</td> <td>  4.8e-07</td> <td> 1.000</td> <td> -1.4e+06</td> <td>  1.4e+06</td>\n",
       "</tr>\n",
       "<tr>\n",
       "  <th>contact_telephone</th>   <td>    0.1225</td> <td> 6.94e+05</td> <td> 1.76e-07</td> <td> 1.000</td> <td>-1.36e+06</td> <td> 1.36e+06</td>\n",
       "</tr>\n",
       "<tr>\n",
       "  <th>contact_unknown</th>     <td>   -1.2707</td> <td> 6.37e+05</td> <td>   -2e-06</td> <td> 1.000</td> <td>-1.25e+06</td> <td> 1.25e+06</td>\n",
       "</tr>\n",
       "<tr>\n",
       "  <th>month_apr</th>           <td>   -0.0329</td> <td>  2.2e+06</td> <td> -1.5e-08</td> <td> 1.000</td> <td> -4.3e+06</td> <td>  4.3e+06</td>\n",
       "</tr>\n",
       "<tr>\n",
       "  <th>month_aug</th>           <td>   -0.8887</td> <td> 2.08e+06</td> <td>-4.27e-07</td> <td> 1.000</td> <td>-4.08e+06</td> <td> 4.08e+06</td>\n",
       "</tr>\n",
       "<tr>\n",
       "  <th>month_dec</th>           <td>    0.5737</td> <td> 2.18e+06</td> <td> 2.63e-07</td> <td> 1.000</td> <td>-4.28e+06</td> <td> 4.28e+06</td>\n",
       "</tr>\n",
       "<tr>\n",
       "  <th>month_feb</th>           <td>   -0.3199</td> <td> 2.17e+06</td> <td>-1.47e-07</td> <td> 1.000</td> <td>-4.25e+06</td> <td> 4.25e+06</td>\n",
       "</tr>\n",
       "<tr>\n",
       "  <th>month_jan</th>           <td>   -1.2011</td> <td> 2.16e+06</td> <td>-5.57e-07</td> <td> 1.000</td> <td>-4.23e+06</td> <td> 4.23e+06</td>\n",
       "</tr>\n",
       "<tr>\n",
       "  <th>month_jul</th>           <td>   -0.9523</td> <td> 2.08e+06</td> <td>-4.57e-07</td> <td> 1.000</td> <td>-4.08e+06</td> <td> 4.08e+06</td>\n",
       "</tr>\n",
       "<tr>\n",
       "  <th>month_jun</th>           <td>    0.2978</td> <td> 2.26e+06</td> <td> 1.32e-07</td> <td> 1.000</td> <td>-4.44e+06</td> <td> 4.44e+06</td>\n",
       "</tr>\n",
       "<tr>\n",
       "  <th>month_mar</th>           <td>    1.4767</td> <td> 2.22e+06</td> <td> 6.65e-07</td> <td> 1.000</td> <td>-4.35e+06</td> <td> 4.35e+06</td>\n",
       "</tr>\n",
       "<tr>\n",
       "  <th>month_may</th>           <td>   -0.4938</td> <td> 2.13e+06</td> <td>-2.32e-07</td> <td> 1.000</td> <td>-4.18e+06</td> <td> 4.18e+06</td>\n",
       "</tr>\n",
       "<tr>\n",
       "  <th>month_nov</th>           <td>   -0.9045</td> <td> 2.18e+06</td> <td>-4.16e-07</td> <td> 1.000</td> <td>-4.27e+06</td> <td> 4.27e+06</td>\n",
       "</tr>\n",
       "<tr>\n",
       "  <th>month_oct</th>           <td>    0.8691</td> <td> 2.14e+06</td> <td> 4.06e-07</td> <td> 1.000</td> <td> -4.2e+06</td> <td>  4.2e+06</td>\n",
       "</tr>\n",
       "<tr>\n",
       "  <th>month_sep</th>           <td>    0.7700</td> <td> 2.21e+06</td> <td> 3.48e-07</td> <td> 1.000</td> <td>-4.33e+06</td> <td> 4.33e+06</td>\n",
       "</tr>\n",
       "<tr>\n",
       "  <th>poutcome_failure</th>    <td>   -0.8027</td> <td> 5.57e+05</td> <td>-1.44e-06</td> <td> 1.000</td> <td>-1.09e+06</td> <td> 1.09e+06</td>\n",
       "</tr>\n",
       "<tr>\n",
       "  <th>poutcome_other</th>      <td>   -0.6059</td> <td> 5.57e+05</td> <td>-1.09e-06</td> <td> 1.000</td> <td>-1.09e+06</td> <td> 1.09e+06</td>\n",
       "</tr>\n",
       "<tr>\n",
       "  <th>poutcome_success</th>    <td>    1.5171</td> <td> 5.57e+05</td> <td> 2.72e-06</td> <td> 1.000</td> <td>-1.09e+06</td> <td> 1.09e+06</td>\n",
       "</tr>\n",
       "<tr>\n",
       "  <th>poutcome_unknown</th>    <td>   -0.9143</td> <td> 5.57e+05</td> <td>-1.64e-06</td> <td> 1.000</td> <td>-1.09e+06</td> <td> 1.09e+06</td>\n",
       "</tr>\n",
       "</table>"
      ],
      "text/plain": [
       "<class 'statsmodels.iolib.summary.Summary'>\n",
       "\"\"\"\n",
       "                           Logit Regression Results                           \n",
       "==============================================================================\n",
       "Dep. Variable:             subscribed   No. Observations:                45211\n",
       "Model:                          Logit   Df Residuals:                    45172\n",
       "Method:                           MLE   Df Model:                           38\n",
       "Date:                Wed, 27 Jan 2021   Pseudo R-squ.:                  0.3361\n",
       "Time:                        15:20:20   Log-Likelihood:                -10833.\n",
       "converged:                      False   LL-Null:                       -16315.\n",
       "Covariance Type:            nonrobust   LLR p-value:                     0.000\n",
       "=======================================================================================\n",
       "                          coef    std err          z      P>|z|      [0.025      0.975]\n",
       "---------------------------------------------------------------------------------------\n",
       "const                   0.9233   1.29e+06   7.14e-07      1.000   -2.54e+06    2.54e+06\n",
       "age                  7.288e-05      0.002      0.033      0.974      -0.004       0.004\n",
       "balance              1.291e-05   5.11e-06      2.526      0.012     2.9e-06    2.29e-05\n",
       "duration                0.0042   6.42e-05     65.101      0.000       0.004       0.004\n",
       "job_admin.             -1.6389   7.25e+06  -2.26e-07      1.000   -1.42e+07    1.42e+07\n",
       "job_blue-collar        -1.9526   7.32e+06  -2.67e-07      1.000   -1.43e+07    1.43e+07\n",
       "job_entrepreneur       -2.0107   7.51e+06  -2.68e-07      1.000   -1.47e+07    1.47e+07\n",
       "job_housemaid          -2.1295   7.19e+06  -2.96e-07      1.000   -1.41e+07    1.41e+07\n",
       "job_management         -1.8062   6.54e+06  -2.76e-07      1.000   -1.28e+07    1.28e+07\n",
       "job_retired            -1.3543   7.45e+06  -1.82e-07      1.000   -1.46e+07    1.46e+07\n",
       "job_self-employed      -1.9433   7.23e+06  -2.69e-07      1.000   -1.42e+07    1.42e+07\n",
       "job_services           -1.8684      7e+06  -2.67e-07      1.000   -1.37e+07    1.37e+07\n",
       "job_student            -1.2510   6.42e+06  -1.95e-07      1.000   -1.26e+07    1.26e+07\n",
       "job_technician         -1.8113   7.14e+06  -2.54e-07      1.000    -1.4e+07     1.4e+07\n",
       "job_unemployed         -1.8056   7.34e+06  -2.46e-07      1.000   -1.44e+07    1.44e+07\n",
       "job_unknown            -1.9824    7.4e+06  -2.68e-07      1.000   -1.45e+07    1.45e+07\n",
       "marital_divorced       -0.2373        nan        nan        nan         nan         nan\n",
       "marital_married        -0.4245        nan        nan        nan         nan         nan\n",
       "marital_single         -0.1439        nan        nan        nan         nan         nan\n",
       "education_primary      -0.4103   1.42e+06   -2.9e-07      1.000   -2.78e+06    2.78e+06\n",
       "education_secondary    -0.2210   1.54e+06  -1.44e-07      1.000   -3.01e+06    3.01e+06\n",
       "education_tertiary     -0.0247   1.55e+06  -1.59e-08      1.000   -3.04e+06    3.04e+06\n",
       "education_unknown      -0.1498   1.78e+06  -8.41e-08      1.000   -3.49e+06    3.49e+06\n",
       "default_no             -0.3910        nan        nan        nan         nan         nan\n",
       "default_yes            -0.4147        nan        nan        nan         nan         nan\n",
       "housing_no             -0.0557   3.79e+06  -1.47e-08      1.000   -7.42e+06    7.42e+06\n",
       "housing_yes            -0.7500   3.48e+06  -2.15e-07      1.000   -6.83e+06    6.83e+06\n",
       "loan_no                -0.1888        nan        nan        nan         nan         nan\n",
       "loan_yes               -0.6170        nan        nan        nan         nan         nan\n",
       "contact_cellular        0.3425   7.14e+05    4.8e-07      1.000    -1.4e+06     1.4e+06\n",
       "contact_telephone       0.1225   6.94e+05   1.76e-07      1.000   -1.36e+06    1.36e+06\n",
       "contact_unknown        -1.2707   6.37e+05     -2e-06      1.000   -1.25e+06    1.25e+06\n",
       "month_apr              -0.0329    2.2e+06   -1.5e-08      1.000    -4.3e+06     4.3e+06\n",
       "month_aug              -0.8887   2.08e+06  -4.27e-07      1.000   -4.08e+06    4.08e+06\n",
       "month_dec               0.5737   2.18e+06   2.63e-07      1.000   -4.28e+06    4.28e+06\n",
       "month_feb              -0.3199   2.17e+06  -1.47e-07      1.000   -4.25e+06    4.25e+06\n",
       "month_jan              -1.2011   2.16e+06  -5.57e-07      1.000   -4.23e+06    4.23e+06\n",
       "month_jul              -0.9523   2.08e+06  -4.57e-07      1.000   -4.08e+06    4.08e+06\n",
       "month_jun               0.2978   2.26e+06   1.32e-07      1.000   -4.44e+06    4.44e+06\n",
       "month_mar               1.4767   2.22e+06   6.65e-07      1.000   -4.35e+06    4.35e+06\n",
       "month_may              -0.4938   2.13e+06  -2.32e-07      1.000   -4.18e+06    4.18e+06\n",
       "month_nov              -0.9045   2.18e+06  -4.16e-07      1.000   -4.27e+06    4.27e+06\n",
       "month_oct               0.8691   2.14e+06   4.06e-07      1.000    -4.2e+06     4.2e+06\n",
       "month_sep               0.7700   2.21e+06   3.48e-07      1.000   -4.33e+06    4.33e+06\n",
       "poutcome_failure       -0.8027   5.57e+05  -1.44e-06      1.000   -1.09e+06    1.09e+06\n",
       "poutcome_other         -0.6059   5.57e+05  -1.09e-06      1.000   -1.09e+06    1.09e+06\n",
       "poutcome_success        1.5171   5.57e+05   2.72e-06      1.000   -1.09e+06    1.09e+06\n",
       "poutcome_unknown       -0.9143   5.57e+05  -1.64e-06      1.000   -1.09e+06    1.09e+06\n",
       "=======================================================================================\n",
       "\"\"\""
      ]
     },
     "execution_count": 39,
     "metadata": {},
     "output_type": "execute_result"
    }
   ],
   "source": [
    "log_reg.summary()"
   ]
  },
  {
   "cell_type": "code",
   "execution_count": 40,
   "metadata": {},
   "outputs": [],
   "source": [
    "num_vars = df[['age', 'balance', 'duration']]"
   ]
  },
  {
   "cell_type": "code",
   "execution_count": 41,
   "metadata": {},
   "outputs": [],
   "source": [
    "scaler = RobustScaler()\n",
    "X_train = pd.DataFrame(scaler.fit_transform(num_vars))"
   ]
  },
  {
   "cell_type": "code",
   "execution_count": 42,
   "metadata": {},
   "outputs": [],
   "source": [
    "X_train.columns = ['age_scaled', 'balance_scaled', 'duration_scaled']"
   ]
  },
  {
   "cell_type": "code",
   "execution_count": 43,
   "metadata": {},
   "outputs": [
    {
     "data": {
      "text/html": [
       "<div>\n",
       "<style scoped>\n",
       "    .dataframe tbody tr th:only-of-type {\n",
       "        vertical-align: middle;\n",
       "    }\n",
       "\n",
       "    .dataframe tbody tr th {\n",
       "        vertical-align: top;\n",
       "    }\n",
       "\n",
       "    .dataframe thead th {\n",
       "        text-align: right;\n",
       "    }\n",
       "</style>\n",
       "<table border=\"1\" class=\"dataframe\">\n",
       "  <thead>\n",
       "    <tr style=\"text-align: right;\">\n",
       "      <th></th>\n",
       "      <th>age_scaled</th>\n",
       "      <th>balance_scaled</th>\n",
       "      <th>duration_scaled</th>\n",
       "    </tr>\n",
       "  </thead>\n",
       "  <tbody>\n",
       "    <tr>\n",
       "      <th>0</th>\n",
       "      <td>1.266667</td>\n",
       "      <td>1.250000</td>\n",
       "      <td>0.375000</td>\n",
       "    </tr>\n",
       "    <tr>\n",
       "      <th>1</th>\n",
       "      <td>0.333333</td>\n",
       "      <td>-0.308997</td>\n",
       "      <td>-0.134259</td>\n",
       "    </tr>\n",
       "    <tr>\n",
       "      <th>2</th>\n",
       "      <td>-0.400000</td>\n",
       "      <td>-0.328909</td>\n",
       "      <td>-0.481481</td>\n",
       "    </tr>\n",
       "    <tr>\n",
       "      <th>3</th>\n",
       "      <td>0.533333</td>\n",
       "      <td>0.780236</td>\n",
       "      <td>-0.407407</td>\n",
       "    </tr>\n",
       "    <tr>\n",
       "      <th>4</th>\n",
       "      <td>-0.400000</td>\n",
       "      <td>-0.329646</td>\n",
       "      <td>0.083333</td>\n",
       "    </tr>\n",
       "    <tr>\n",
       "      <th>...</th>\n",
       "      <td>...</td>\n",
       "      <td>...</td>\n",
       "      <td>...</td>\n",
       "    </tr>\n",
       "    <tr>\n",
       "      <th>45206</th>\n",
       "      <td>0.800000</td>\n",
       "      <td>0.278024</td>\n",
       "      <td>3.689815</td>\n",
       "    </tr>\n",
       "    <tr>\n",
       "      <th>45207</th>\n",
       "      <td>2.133333</td>\n",
       "      <td>0.944690</td>\n",
       "      <td>1.277778</td>\n",
       "    </tr>\n",
       "    <tr>\n",
       "      <th>45208</th>\n",
       "      <td>2.200000</td>\n",
       "      <td>3.884218</td>\n",
       "      <td>4.384259</td>\n",
       "    </tr>\n",
       "    <tr>\n",
       "      <th>45209</th>\n",
       "      <td>1.200000</td>\n",
       "      <td>0.162242</td>\n",
       "      <td>1.518519</td>\n",
       "    </tr>\n",
       "    <tr>\n",
       "      <th>45210</th>\n",
       "      <td>-0.133333</td>\n",
       "      <td>1.860619</td>\n",
       "      <td>0.837963</td>\n",
       "    </tr>\n",
       "  </tbody>\n",
       "</table>\n",
       "<p>45211 rows × 3 columns</p>\n",
       "</div>"
      ],
      "text/plain": [
       "       age_scaled  balance_scaled  duration_scaled\n",
       "0        1.266667        1.250000         0.375000\n",
       "1        0.333333       -0.308997        -0.134259\n",
       "2       -0.400000       -0.328909        -0.481481\n",
       "3        0.533333        0.780236        -0.407407\n",
       "4       -0.400000       -0.329646         0.083333\n",
       "...           ...             ...              ...\n",
       "45206    0.800000        0.278024         3.689815\n",
       "45207    2.133333        0.944690         1.277778\n",
       "45208    2.200000        3.884218         4.384259\n",
       "45209    1.200000        0.162242         1.518519\n",
       "45210   -0.133333        1.860619         0.837963\n",
       "\n",
       "[45211 rows x 3 columns]"
      ]
     },
     "execution_count": 43,
     "metadata": {},
     "output_type": "execute_result"
    }
   ],
   "source": [
    "X_train"
   ]
  },
  {
   "cell_type": "code",
   "execution_count": 44,
   "metadata": {},
   "outputs": [],
   "source": [
    "df = pd.concat([df, X_train], axis = 1)"
   ]
  },
  {
   "cell_type": "code",
   "execution_count": 45,
   "metadata": {},
   "outputs": [],
   "source": [
    "df = df.drop(columns = ['age', 'duration', 'balance'])"
   ]
  },
  {
   "cell_type": "code",
   "execution_count": 46,
   "metadata": {},
   "outputs": [
    {
     "data": {
      "text/html": [
       "<div>\n",
       "<style scoped>\n",
       "    .dataframe tbody tr th:only-of-type {\n",
       "        vertical-align: middle;\n",
       "    }\n",
       "\n",
       "    .dataframe tbody tr th {\n",
       "        vertical-align: top;\n",
       "    }\n",
       "\n",
       "    .dataframe thead th {\n",
       "        text-align: right;\n",
       "    }\n",
       "</style>\n",
       "<table border=\"1\" class=\"dataframe\">\n",
       "  <thead>\n",
       "    <tr style=\"text-align: right;\">\n",
       "      <th></th>\n",
       "      <th>job_admin.</th>\n",
       "      <th>job_blue-collar</th>\n",
       "      <th>job_entrepreneur</th>\n",
       "      <th>job_housemaid</th>\n",
       "      <th>job_management</th>\n",
       "      <th>job_retired</th>\n",
       "      <th>job_self-employed</th>\n",
       "      <th>job_services</th>\n",
       "      <th>job_student</th>\n",
       "      <th>job_technician</th>\n",
       "      <th>...</th>\n",
       "      <th>month_oct</th>\n",
       "      <th>month_sep</th>\n",
       "      <th>poutcome_failure</th>\n",
       "      <th>poutcome_other</th>\n",
       "      <th>poutcome_success</th>\n",
       "      <th>poutcome_unknown</th>\n",
       "      <th>subscribed</th>\n",
       "      <th>age_scaled</th>\n",
       "      <th>balance_scaled</th>\n",
       "      <th>duration_scaled</th>\n",
       "    </tr>\n",
       "  </thead>\n",
       "  <tbody>\n",
       "    <tr>\n",
       "      <th>0</th>\n",
       "      <td>0</td>\n",
       "      <td>0</td>\n",
       "      <td>0</td>\n",
       "      <td>0</td>\n",
       "      <td>1</td>\n",
       "      <td>0</td>\n",
       "      <td>0</td>\n",
       "      <td>0</td>\n",
       "      <td>0</td>\n",
       "      <td>0</td>\n",
       "      <td>...</td>\n",
       "      <td>0</td>\n",
       "      <td>0</td>\n",
       "      <td>0</td>\n",
       "      <td>0</td>\n",
       "      <td>0</td>\n",
       "      <td>1</td>\n",
       "      <td>0</td>\n",
       "      <td>1.266667</td>\n",
       "      <td>1.250000</td>\n",
       "      <td>0.375000</td>\n",
       "    </tr>\n",
       "    <tr>\n",
       "      <th>1</th>\n",
       "      <td>0</td>\n",
       "      <td>0</td>\n",
       "      <td>0</td>\n",
       "      <td>0</td>\n",
       "      <td>0</td>\n",
       "      <td>0</td>\n",
       "      <td>0</td>\n",
       "      <td>0</td>\n",
       "      <td>0</td>\n",
       "      <td>1</td>\n",
       "      <td>...</td>\n",
       "      <td>0</td>\n",
       "      <td>0</td>\n",
       "      <td>0</td>\n",
       "      <td>0</td>\n",
       "      <td>0</td>\n",
       "      <td>1</td>\n",
       "      <td>0</td>\n",
       "      <td>0.333333</td>\n",
       "      <td>-0.308997</td>\n",
       "      <td>-0.134259</td>\n",
       "    </tr>\n",
       "    <tr>\n",
       "      <th>2</th>\n",
       "      <td>0</td>\n",
       "      <td>0</td>\n",
       "      <td>1</td>\n",
       "      <td>0</td>\n",
       "      <td>0</td>\n",
       "      <td>0</td>\n",
       "      <td>0</td>\n",
       "      <td>0</td>\n",
       "      <td>0</td>\n",
       "      <td>0</td>\n",
       "      <td>...</td>\n",
       "      <td>0</td>\n",
       "      <td>0</td>\n",
       "      <td>0</td>\n",
       "      <td>0</td>\n",
       "      <td>0</td>\n",
       "      <td>1</td>\n",
       "      <td>0</td>\n",
       "      <td>-0.400000</td>\n",
       "      <td>-0.328909</td>\n",
       "      <td>-0.481481</td>\n",
       "    </tr>\n",
       "    <tr>\n",
       "      <th>3</th>\n",
       "      <td>0</td>\n",
       "      <td>1</td>\n",
       "      <td>0</td>\n",
       "      <td>0</td>\n",
       "      <td>0</td>\n",
       "      <td>0</td>\n",
       "      <td>0</td>\n",
       "      <td>0</td>\n",
       "      <td>0</td>\n",
       "      <td>0</td>\n",
       "      <td>...</td>\n",
       "      <td>0</td>\n",
       "      <td>0</td>\n",
       "      <td>0</td>\n",
       "      <td>0</td>\n",
       "      <td>0</td>\n",
       "      <td>1</td>\n",
       "      <td>0</td>\n",
       "      <td>0.533333</td>\n",
       "      <td>0.780236</td>\n",
       "      <td>-0.407407</td>\n",
       "    </tr>\n",
       "    <tr>\n",
       "      <th>4</th>\n",
       "      <td>0</td>\n",
       "      <td>0</td>\n",
       "      <td>0</td>\n",
       "      <td>0</td>\n",
       "      <td>0</td>\n",
       "      <td>0</td>\n",
       "      <td>0</td>\n",
       "      <td>0</td>\n",
       "      <td>0</td>\n",
       "      <td>0</td>\n",
       "      <td>...</td>\n",
       "      <td>0</td>\n",
       "      <td>0</td>\n",
       "      <td>0</td>\n",
       "      <td>0</td>\n",
       "      <td>0</td>\n",
       "      <td>1</td>\n",
       "      <td>0</td>\n",
       "      <td>-0.400000</td>\n",
       "      <td>-0.329646</td>\n",
       "      <td>0.083333</td>\n",
       "    </tr>\n",
       "  </tbody>\n",
       "</table>\n",
       "<p>5 rows × 48 columns</p>\n",
       "</div>"
      ],
      "text/plain": [
       "   job_admin.  job_blue-collar  job_entrepreneur  job_housemaid  \\\n",
       "0           0                0                 0              0   \n",
       "1           0                0                 0              0   \n",
       "2           0                0                 1              0   \n",
       "3           0                1                 0              0   \n",
       "4           0                0                 0              0   \n",
       "\n",
       "   job_management  job_retired  job_self-employed  job_services  job_student  \\\n",
       "0               1            0                  0             0            0   \n",
       "1               0            0                  0             0            0   \n",
       "2               0            0                  0             0            0   \n",
       "3               0            0                  0             0            0   \n",
       "4               0            0                  0             0            0   \n",
       "\n",
       "   job_technician  ...  month_oct  month_sep  poutcome_failure  \\\n",
       "0               0  ...          0          0                 0   \n",
       "1               1  ...          0          0                 0   \n",
       "2               0  ...          0          0                 0   \n",
       "3               0  ...          0          0                 0   \n",
       "4               0  ...          0          0                 0   \n",
       "\n",
       "   poutcome_other  poutcome_success  poutcome_unknown  subscribed  age_scaled  \\\n",
       "0               0                 0                 1           0    1.266667   \n",
       "1               0                 0                 1           0    0.333333   \n",
       "2               0                 0                 1           0   -0.400000   \n",
       "3               0                 0                 1           0    0.533333   \n",
       "4               0                 0                 1           0   -0.400000   \n",
       "\n",
       "   balance_scaled  duration_scaled  \n",
       "0        1.250000         0.375000  \n",
       "1       -0.308997        -0.134259  \n",
       "2       -0.328909        -0.481481  \n",
       "3        0.780236        -0.407407  \n",
       "4       -0.329646         0.083333  \n",
       "\n",
       "[5 rows x 48 columns]"
      ]
     },
     "execution_count": 46,
     "metadata": {},
     "output_type": "execute_result"
    }
   ],
   "source": [
    "df.head()"
   ]
  },
  {
   "cell_type": "code",
   "execution_count": 47,
   "metadata": {},
   "outputs": [],
   "source": [
    "X, y = df.drop(columns='subscribed'), df['subscribed']"
   ]
  },
  {
   "cell_type": "code",
   "execution_count": 48,
   "metadata": {},
   "outputs": [
    {
     "name": "stdout",
     "output_type": "stream",
     "text": [
      "job_admin., Score: 0.14263\n",
      "job_blue-collar, Score: -0.17322\n",
      "job_entrepreneur, Score: -0.23127\n",
      "job_housemaid, Score: -0.32313\n",
      "job_management, Score: -0.02473\n",
      "job_retired, Score: 0.43145\n",
      "job_self-employed, Score: -0.15543\n",
      "job_services, Score: -0.09192\n",
      "job_student, Score: 0.53589\n",
      "job_technician, Score: -0.02839\n",
      "job_unemployed, Score: -0.01653\n",
      "job_unknown, Score: -0.22049\n",
      "marital_divorced, Score: -0.02266\n",
      "marital_married, Score: -0.20750\n",
      "marital_single, Score: 0.07504\n",
      "education_primary, Score: -0.24985\n",
      "education_secondary, Score: -0.05653\n",
      "education_tertiary, Score: 0.13833\n",
      "education_unknown, Score: 0.01293\n",
      "default_no, Score: -0.06728\n",
      "default_yes, Score: -0.08784\n",
      "housing_no, Score: 0.26823\n",
      "housing_yes, Score: -0.42336\n",
      "loan_no, Score: 0.13799\n",
      "loan_yes, Score: -0.29311\n",
      "contact_cellular, Score: 0.55844\n",
      "contact_telephone, Score: 0.33465\n",
      "contact_unknown, Score: -1.04822\n",
      "month_apr, Score: 0.02945\n",
      "month_aug, Score: -0.82989\n",
      "month_dec, Score: 0.63934\n",
      "month_feb, Score: -0.26128\n",
      "month_jan, Score: -1.15132\n",
      "month_jul, Score: -0.89062\n",
      "month_jun, Score: 0.34649\n",
      "month_mar, Score: 1.51893\n",
      "month_may, Score: -0.43757\n",
      "month_nov, Score: -0.84533\n",
      "month_oct, Score: 0.90395\n",
      "month_sep, Score: 0.82271\n",
      "poutcome_failure, Score: -0.63815\n",
      "poutcome_other, Score: -0.43652\n",
      "poutcome_success, Score: 1.67315\n",
      "poutcome_unknown, Score: -0.75361\n",
      "age_scaled, Score: 0.00367\n",
      "balance_scaled, Score: 0.01767\n",
      "duration_scaled, Score: 0.90124\n"
     ]
    },
    {
     "name": "stderr",
     "output_type": "stream",
     "text": [
      "C:\\Users\\Owner\\Anaconda3\\lib\\site-packages\\sklearn\\linear_model\\_logistic.py:764: ConvergenceWarning: lbfgs failed to converge (status=1):\n",
      "STOP: TOTAL NO. of ITERATIONS REACHED LIMIT.\n",
      "\n",
      "Increase the number of iterations (max_iter) or scale the data as shown in:\n",
      "    https://scikit-learn.org/stable/modules/preprocessing.html\n",
      "Please also refer to the documentation for alternative solver options:\n",
      "    https://scikit-learn.org/stable/modules/linear_model.html#logistic-regression\n",
      "  extra_warning_msg=_LOGISTIC_SOLVER_CONVERGENCE_MSG)\n"
     ]
    }
   ],
   "source": [
    "lr = LogisticRegression()\n",
    "lr.fit(X, y)\n",
    "importance = lr.coef_[0]\n",
    "\n",
    "for (i,v),c in zip(enumerate(importance), X.columns):\n",
    "    print(f'{c}, Score: %.5f' % (v))"
   ]
  },
  {
   "cell_type": "code",
   "execution_count": 49,
   "metadata": {
    "scrolled": true
   },
   "outputs": [
    {
     "name": "stdout",
     "output_type": "stream",
     "text": [
      "job_admin., Score: 0.00000\n",
      "job_blue-collar, Score: 0.00437\n",
      "job_entrepreneur, Score: 0.00000\n",
      "job_housemaid, Score: 0.00000\n",
      "job_management, Score: 0.00000\n",
      "job_retired, Score: 0.00706\n",
      "job_self-employed, Score: 0.00000\n",
      "job_services, Score: 0.00000\n",
      "job_student, Score: 0.00149\n",
      "job_technician, Score: 0.00006\n",
      "job_unemployed, Score: 0.00000\n",
      "job_unknown, Score: 0.00018\n",
      "marital_divorced, Score: 0.00001\n",
      "marital_married, Score: 0.00271\n",
      "marital_single, Score: 0.00442\n",
      "education_primary, Score: 0.00000\n",
      "education_secondary, Score: 0.00080\n",
      "education_tertiary, Score: 0.00025\n",
      "education_unknown, Score: 0.00011\n",
      "default_no, Score: 0.00004\n",
      "default_yes, Score: 0.00058\n",
      "housing_no, Score: 0.04471\n",
      "housing_yes, Score: 0.07119\n",
      "loan_no, Score: 0.00356\n",
      "loan_yes, Score: 0.00459\n",
      "contact_cellular, Score: 0.02437\n",
      "contact_telephone, Score: 0.00166\n",
      "contact_unknown, Score: 0.05682\n",
      "month_apr, Score: 0.00217\n",
      "month_aug, Score: 0.00035\n",
      "month_dec, Score: 0.00969\n",
      "month_feb, Score: 0.00072\n",
      "month_jan, Score: 0.00007\n",
      "month_jul, Score: 0.00105\n",
      "month_jun, Score: 0.00000\n",
      "month_mar, Score: 0.04460\n",
      "month_may, Score: 0.01297\n",
      "month_nov, Score: 0.00000\n",
      "month_oct, Score: 0.04510\n",
      "month_sep, Score: 0.04890\n",
      "poutcome_failure, Score: 0.00498\n",
      "poutcome_other, Score: 0.00000\n",
      "poutcome_success, Score: 0.13421\n",
      "poutcome_unknown, Score: 0.09115\n",
      "age_scaled, Score: 0.08107\n",
      "balance_scaled, Score: 0.01628\n",
      "duration_scaled, Score: 0.27771\n"
     ]
    }
   ],
   "source": [
    "rf = RandomForestClassifier(max_depth=2, random_state=0)\n",
    "rf.fit(X,y)\n",
    "importances = rf.feature_importances_\n",
    "\n",
    "for (i,v),c in zip(enumerate(importances), X.columns):\n",
    "    print(f'{c}, Score: %.5f' % (v))"
   ]
  },
  {
   "cell_type": "code",
   "execution_count": 66,
   "metadata": {},
   "outputs": [
    {
     "data": {
      "image/png": "[encoded data removed]",
      "text/plain": [
       "<Figure size 864x648 with 1 Axes>"
      ]
     },
     "metadata": {
      "needs_background": "light"
     },
     "output_type": "display_data"
    },
    {
     "data": {
      "text/plain": [
       "<Figure size 648x648 with 0 Axes>"
      ]
     },
     "metadata": {},
     "output_type": "display_data"
    }
   ],
   "source": [
    "std = np.std([tree.feature_importances_ for tree in rf.estimators_],\n",
    "             axis=0)\n",
    "\n",
    "indices = np.argsort(importance)\n",
    "\n",
    "# Plot the feature importances of the forest\n",
    "plt.figure(figsize=(12,9))\n",
    "plt.title(\"Feature importances\")\n",
    "plt.barh(range(X.shape[1]), importance[indices],\n",
    "       color=\"r\", xerr=std[indices], align=\"center\")\n",
    "# If you want to define your own labels,\n",
    "# change indices to a list of labels on the following line.\n",
    "plt.yticks(range(X.shape[1]), indices, rotation = 'horizontal')\n",
    "plt.ylim([-1, X.shape[1]])\n",
    "plt.figure(figsize=(9, 9))\n",
    "plt.show()"
   ]
  },
  {
   "cell_type": "code",
   "execution_count": 99,
   "metadata": {},
   "outputs": [],
   "source": [
    "indices_l = list(indices)"
   ]
  },
  {
   "cell_type": "code",
   "execution_count": 102,
   "metadata": {},
   "outputs": [
    {
     "ename": "TypeError",
     "evalue": "'int' object is not iterable",
     "output_type": "error",
     "traceback": [
      "\u001b[1;31m---------------------------------------------------------------------------\u001b[0m",
      "\u001b[1;31mTypeError\u001b[0m                                 Traceback (most recent call last)",
      "\u001b[1;32m<ipython-input-102-2c7df1d75209>\u001b[0m in \u001b[0;36m<module>\u001b[1;34m\u001b[0m\n\u001b[0;32m      3\u001b[0m \u001b[0md\u001b[0m\u001b[1;33m=\u001b[0m\u001b[0mdict\u001b[0m\u001b[1;33m(\u001b[0m\u001b[1;33m(\u001b[0m\u001b[0mi\u001b[0m\u001b[1;33m,\u001b[0m\u001b[0mj\u001b[0m\u001b[1;33m)\u001b[0m \u001b[1;32mfor\u001b[0m \u001b[0mi\u001b[0m\u001b[1;33m,\u001b[0m\u001b[0mj\u001b[0m \u001b[1;32min\u001b[0m \u001b[0menum\u001b[0m\u001b[1;33m)\u001b[0m\u001b[1;33m\u001b[0m\u001b[0m\n\u001b[0;32m      4\u001b[0m \u001b[0mticks\u001b[0m \u001b[1;33m=\u001b[0m \u001b[1;33m[\u001b[0m\u001b[1;33m]\u001b[0m\u001b[1;33m\u001b[0m\u001b[0m\n\u001b[1;32m----> 5\u001b[1;33m \u001b[1;32mfor\u001b[0m \u001b[0mk\u001b[0m\u001b[1;33m,\u001b[0m \u001b[0mv\u001b[0m \u001b[1;32min\u001b[0m \u001b[0md\u001b[0m\u001b[1;33m:\u001b[0m\u001b[1;33m\u001b[0m\u001b[0m\n\u001b[0m\u001b[0;32m      6\u001b[0m     \u001b[1;32mif\u001b[0m \u001b[0mk\u001b[0m \u001b[1;32min\u001b[0m \u001b[0mindices_l\u001b[0m\u001b[1;33m:\u001b[0m\u001b[1;33m\u001b[0m\u001b[0m\n\u001b[0;32m      7\u001b[0m         \u001b[0mticks\u001b[0m\u001b[1;33m.\u001b[0m\u001b[0mappend\u001b[0m\u001b[1;33m(\u001b[0m\u001b[0mv\u001b[0m\u001b[1;33m)\u001b[0m\u001b[1;33m\u001b[0m\u001b[0m\n",
      "\u001b[1;31mTypeError\u001b[0m: 'int' object is not iterable"
     ]
    }
   ],
   "source": [
    "l = [i for i in X.columns]\n",
    "enum = enumerate(l)\n",
    "d=dict((i,j) for i,j in enum)\n",
    "ticks = []\n",
    "for k, v in d:\n",
    "    if k in indices_l:\n",
    "        ticks.append(v)"
   ]
  },
  {
   "cell_type": "code",
   "execution_count": 110,
   "metadata": {},
   "outputs": [
    {
     "data": {
      "text/plain": [
       "['job_admin.',\n",
       " 'job_blue-collar',\n",
       " 'job_entrepreneur',\n",
       " 'job_housemaid',\n",
       " 'job_management',\n",
       " 'job_retired',\n",
       " 'job_self-employed',\n",
       " 'job_services',\n",
       " 'job_student',\n",
       " 'job_technician',\n",
       " 'job_unemployed',\n",
       " 'job_unknown',\n",
       " 'marital_divorced',\n",
       " 'marital_married',\n",
       " 'marital_single',\n",
       " 'education_primary',\n",
       " 'education_secondary',\n",
       " 'education_tertiary',\n",
       " 'education_unknown',\n",
       " 'default_no',\n",
       " 'default_yes',\n",
       " 'housing_no',\n",
       " 'housing_yes',\n",
       " 'loan_no',\n",
       " 'loan_yes',\n",
       " 'contact_cellular',\n",
       " 'contact_telephone',\n",
       " 'contact_unknown',\n",
       " 'month_apr',\n",
       " 'month_aug',\n",
       " 'month_dec',\n",
       " 'month_feb',\n",
       " 'month_jan',\n",
       " 'month_jul',\n",
       " 'month_jun',\n",
       " 'month_mar',\n",
       " 'month_may',\n",
       " 'month_nov',\n",
       " 'month_oct',\n",
       " 'month_sep',\n",
       " 'poutcome_failure',\n",
       " 'poutcome_other',\n",
       " 'poutcome_success',\n",
       " 'poutcome_unknown',\n",
       " 'age_scaled',\n",
       " 'balance_scaled',\n",
       " 'duration_scaled']"
      ]
     },
     "execution_count": 110,
     "metadata": {},
     "output_type": "execute_result"
    }
   ],
   "source": [
    "ticks = []\n",
    "for k, v in d.items():\n",
    "    if k in indices_l:\n",
    "        ticks.append(v)\n",
    "ticks"
   ]
  }
 ],
 "metadata": {
  "kernelspec": {
   "display_name": "Python 3",
   "language": "python",
   "name": "python3"
  },
  "language_info": {
   "codemirror_mode": {
    "name": "ipython",
    "version": 3
   },
   "file_extension": ".py",
   "mimetype": "text/x-python",
   "name": "python",
   "nbconvert_exporter": "python",
   "pygments_lexer": "ipython3",
   "version": "3.6.5"
  }
 },
 "nbformat": 4,
 "nbformat_minor": 4
}
