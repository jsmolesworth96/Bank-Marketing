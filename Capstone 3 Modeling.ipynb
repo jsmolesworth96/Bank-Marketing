{
 "cells": [
  {
   "cell_type": "code",
   "execution_count": 1,
   "metadata": {},
   "outputs": [],
   "source": [
    "import pandas as pd\n",
    "import numpy as np\n",
    "from sklearn.feature_selection import SelectKBest\n",
    "from sklearn.feature_selection import chi2\n",
    "from sklearn.ensemble import ExtraTreesClassifier\n",
    "import matplotlib.pyplot as plt\n",
    "from sklearn.model_selection import train_test_split\n",
    "from sklearn.ensemble import RandomForestClassifier\n",
    "from sklearn.model_selection import GridSearchCV\n",
    "from sklearn.metrics import make_scorer, accuracy_score\n",
    "from sklearn.metrics import roc_curve, roc_auc_score\n",
    "from sklearn.metrics import confusion_matrix"
   ]
  },
  {
   "cell_type": "markdown",
   "metadata": {},
   "source": [
    "**Univariate Selection**"
   ]
  },
  {
   "cell_type": "code",
   "execution_count": 2,
   "metadata": {},
   "outputs": [],
   "source": [
    "df = pd.read_csv(\"bank_df.csv\")\n",
    "X = df.iloc[:,0:35]  #independent columns\n",
    "y = df.iloc[:,-1]    #target column i.e price range"
   ]
  },
  {
   "cell_type": "code",
   "execution_count": 3,
   "metadata": {},
   "outputs": [
    {
     "name": "stdout",
     "output_type": "stream",
     "text": [
      "                  Specs        Score\n",
      "33     poutcome_success  4113.000571\n",
      "27            month_mar   749.691937\n",
      "30            month_oct   734.708162\n",
      "20      contact_unknown   733.354934\n",
      "31            month_sep   677.273004\n",
      "17          housing_yes   388.949715\n",
      "28            month_may   330.368818\n",
      "4           job_retired   269.699331\n",
      "7           job_student   261.792961\n",
      "22            month_dec   254.219350\n",
      "34     poutcome_unknown   230.279723\n",
      "0       job_blue-collar   184.348135\n",
      "18             loan_yes   176.516137\n",
      "14   education_tertiary   140.894501\n",
      "12       marital_single   130.835717\n",
      "11      marital_married    65.352757\n",
      "23            month_feb    62.816516\n",
      "25            month_jul    45.292910\n",
      "32       poutcome_other    44.287113\n",
      "3        job_management    38.743601\n",
      "6          job_services    31.876642\n",
      "13  education_secondary    29.141390\n",
      "16          default_yes    22.313875\n",
      "9        job_unemployed    18.254702\n",
      "1      job_entrepreneur    16.903979\n",
      "26            month_jun    11.259182\n",
      "2         job_housemaid    10.152196\n",
      "29            month_nov     9.201705\n",
      "19    contact_telephone     8.342166\n",
      "15    education_unknown     6.298403\n",
      "24            month_jan     3.379053\n",
      "8        job_technician     3.026332\n",
      "21            month_aug     2.839233\n",
      "5     job_self-employed     0.031898\n",
      "10          job_unknown     0.003196\n"
     ]
    }
   ],
   "source": [
    "#apply SelectKBest class to extract top 10 best features\n",
    "bestfeatures = SelectKBest(score_func=chi2, k=10)\n",
    "fit = bestfeatures.fit(X,y)\n",
    "dfscores = pd.DataFrame(fit.scores_)\n",
    "dfcolumns = pd.DataFrame(X.columns)\n",
    "\n",
    "#concat two dataframes for better visualization \n",
    "featureScores = pd.concat([dfcolumns,dfscores],axis=1)\n",
    "featureScores.columns = ['Specs','Score']  #naming the dataframe columns\n",
    "print(featureScores.nlargest(38,'Score'))  #print 10 best features"
   ]
  },
  {
   "cell_type": "code",
   "execution_count": 4,
   "metadata": {},
   "outputs": [
    {
     "data": {
      "text/html": [
       "<div>\n",
       "<style scoped>\n",
       "    .dataframe tbody tr th:only-of-type {\n",
       "        vertical-align: middle;\n",
       "    }\n",
       "\n",
       "    .dataframe tbody tr th {\n",
       "        vertical-align: top;\n",
       "    }\n",
       "\n",
       "    .dataframe thead th {\n",
       "        text-align: right;\n",
       "    }\n",
       "</style>\n",
       "<table border=\"1\" class=\"dataframe\">\n",
       "  <thead>\n",
       "    <tr style=\"text-align: right;\">\n",
       "      <th></th>\n",
       "      <th>poutcome_success</th>\n",
       "      <th>month_mar</th>\n",
       "      <th>month_oct</th>\n",
       "      <th>contact_unknown</th>\n",
       "      <th>month_sep</th>\n",
       "      <th>housing_yes</th>\n",
       "      <th>month_may</th>\n",
       "      <th>job_retired</th>\n",
       "      <th>job_student</th>\n",
       "      <th>month_dec</th>\n",
       "      <th>...</th>\n",
       "      <th>month_jun</th>\n",
       "      <th>job_housemaid</th>\n",
       "      <th>month_nov</th>\n",
       "      <th>contact_telephone</th>\n",
       "      <th>education_unknown</th>\n",
       "      <th>month_jan</th>\n",
       "      <th>job_technician</th>\n",
       "      <th>month_aug</th>\n",
       "      <th>job_self-employed</th>\n",
       "      <th>job_unknown</th>\n",
       "    </tr>\n",
       "  </thead>\n",
       "  <tbody>\n",
       "    <tr>\n",
       "      <th>0</th>\n",
       "      <td>0</td>\n",
       "      <td>0</td>\n",
       "      <td>0</td>\n",
       "      <td>1</td>\n",
       "      <td>0</td>\n",
       "      <td>1</td>\n",
       "      <td>1</td>\n",
       "      <td>0</td>\n",
       "      <td>0</td>\n",
       "      <td>0</td>\n",
       "      <td>...</td>\n",
       "      <td>0</td>\n",
       "      <td>0</td>\n",
       "      <td>0</td>\n",
       "      <td>0</td>\n",
       "      <td>0</td>\n",
       "      <td>0</td>\n",
       "      <td>0</td>\n",
       "      <td>0</td>\n",
       "      <td>0</td>\n",
       "      <td>0</td>\n",
       "    </tr>\n",
       "    <tr>\n",
       "      <th>1</th>\n",
       "      <td>0</td>\n",
       "      <td>0</td>\n",
       "      <td>0</td>\n",
       "      <td>1</td>\n",
       "      <td>0</td>\n",
       "      <td>1</td>\n",
       "      <td>1</td>\n",
       "      <td>0</td>\n",
       "      <td>0</td>\n",
       "      <td>0</td>\n",
       "      <td>...</td>\n",
       "      <td>0</td>\n",
       "      <td>0</td>\n",
       "      <td>0</td>\n",
       "      <td>0</td>\n",
       "      <td>0</td>\n",
       "      <td>0</td>\n",
       "      <td>1</td>\n",
       "      <td>0</td>\n",
       "      <td>0</td>\n",
       "      <td>0</td>\n",
       "    </tr>\n",
       "    <tr>\n",
       "      <th>2</th>\n",
       "      <td>0</td>\n",
       "      <td>0</td>\n",
       "      <td>0</td>\n",
       "      <td>1</td>\n",
       "      <td>0</td>\n",
       "      <td>1</td>\n",
       "      <td>1</td>\n",
       "      <td>0</td>\n",
       "      <td>0</td>\n",
       "      <td>0</td>\n",
       "      <td>...</td>\n",
       "      <td>0</td>\n",
       "      <td>0</td>\n",
       "      <td>0</td>\n",
       "      <td>0</td>\n",
       "      <td>0</td>\n",
       "      <td>0</td>\n",
       "      <td>0</td>\n",
       "      <td>0</td>\n",
       "      <td>0</td>\n",
       "      <td>0</td>\n",
       "    </tr>\n",
       "    <tr>\n",
       "      <th>3</th>\n",
       "      <td>0</td>\n",
       "      <td>0</td>\n",
       "      <td>0</td>\n",
       "      <td>1</td>\n",
       "      <td>0</td>\n",
       "      <td>1</td>\n",
       "      <td>1</td>\n",
       "      <td>0</td>\n",
       "      <td>0</td>\n",
       "      <td>0</td>\n",
       "      <td>...</td>\n",
       "      <td>0</td>\n",
       "      <td>0</td>\n",
       "      <td>0</td>\n",
       "      <td>0</td>\n",
       "      <td>1</td>\n",
       "      <td>0</td>\n",
       "      <td>0</td>\n",
       "      <td>0</td>\n",
       "      <td>0</td>\n",
       "      <td>0</td>\n",
       "    </tr>\n",
       "    <tr>\n",
       "      <th>4</th>\n",
       "      <td>0</td>\n",
       "      <td>0</td>\n",
       "      <td>0</td>\n",
       "      <td>1</td>\n",
       "      <td>0</td>\n",
       "      <td>0</td>\n",
       "      <td>1</td>\n",
       "      <td>0</td>\n",
       "      <td>0</td>\n",
       "      <td>0</td>\n",
       "      <td>...</td>\n",
       "      <td>0</td>\n",
       "      <td>0</td>\n",
       "      <td>0</td>\n",
       "      <td>0</td>\n",
       "      <td>1</td>\n",
       "      <td>0</td>\n",
       "      <td>0</td>\n",
       "      <td>0</td>\n",
       "      <td>0</td>\n",
       "      <td>1</td>\n",
       "    </tr>\n",
       "  </tbody>\n",
       "</table>\n",
       "<p>5 rows × 35 columns</p>\n",
       "</div>"
      ],
      "text/plain": [
       "   poutcome_success  month_mar  month_oct  contact_unknown  month_sep  \\\n",
       "0                 0          0          0                1          0   \n",
       "1                 0          0          0                1          0   \n",
       "2                 0          0          0                1          0   \n",
       "3                 0          0          0                1          0   \n",
       "4                 0          0          0                1          0   \n",
       "\n",
       "   housing_yes  month_may  job_retired  job_student  month_dec  ...  \\\n",
       "0            1          1            0            0          0  ...   \n",
       "1            1          1            0            0          0  ...   \n",
       "2            1          1            0            0          0  ...   \n",
       "3            1          1            0            0          0  ...   \n",
       "4            0          1            0            0          0  ...   \n",
       "\n",
       "   month_jun  job_housemaid  month_nov  contact_telephone  education_unknown  \\\n",
       "0          0              0          0                  0                  0   \n",
       "1          0              0          0                  0                  0   \n",
       "2          0              0          0                  0                  0   \n",
       "3          0              0          0                  0                  1   \n",
       "4          0              0          0                  0                  1   \n",
       "\n",
       "   month_jan  job_technician  month_aug  job_self-employed  job_unknown  \n",
       "0          0               0          0                  0            0  \n",
       "1          0               1          0                  0            0  \n",
       "2          0               0          0                  0            0  \n",
       "3          0               0          0                  0            0  \n",
       "4          0               0          0                  0            1  \n",
       "\n",
       "[5 rows x 35 columns]"
      ]
     },
     "execution_count": 4,
     "metadata": {},
     "output_type": "execute_result"
    }
   ],
   "source": [
    "ordered_df = featureScores.nlargest(38,'Score')\n",
    "df = df[list(ordered_df['Specs'].values)]\n",
    "df.head()"
   ]
  },
  {
   "cell_type": "code",
   "execution_count": 5,
   "metadata": {},
   "outputs": [],
   "source": [
    "#Create dataframes with different feature sets\n",
    "top5_df = df.iloc[:,:5]\n",
    "top10_df = df.iloc[:,:10]\n",
    "top20_df = df.iloc[:,:20]\n",
    "top30_df = df.iloc[:,:30]"
   ]
  },
  {
   "cell_type": "markdown",
   "metadata": {},
   "source": [
    "**Top 5 Features Random Forest**"
   ]
  },
  {
   "cell_type": "code",
   "execution_count": 6,
   "metadata": {},
   "outputs": [],
   "source": [
    "X = top5_df\n",
    "\n",
    "X_train, X_test, y_train, y_test = train_test_split(X, y, test_size=0.30, random_state=23)"
   ]
  },
  {
   "cell_type": "code",
   "execution_count": 7,
   "metadata": {},
   "outputs": [
    {
     "data": {
      "text/plain": [
       "RandomForestClassifier(criterion='entropy', max_depth=5, max_features='log2',\n",
       "                       min_samples_leaf=2, min_samples_split=6, n_estimators=1)"
      ]
     },
     "execution_count": 7,
     "metadata": {},
     "output_type": "execute_result"
    }
   ],
   "source": [
    "#Create and gridsearch a random forest model for the data.\n",
    "clf = RandomForestClassifier()\n",
    "\n",
    "parameters = {'n_estimators': range(1,10), \n",
    "              'max_features': ['auto','sqrt','log2'], \n",
    "              'criterion': ['gini', 'entropy'],\n",
    "              'max_depth': range(1,10), \n",
    "              'min_samples_split': [2,3,6],\n",
    "              'min_samples_leaf': [1,2,3],\n",
    "             }\n",
    "\n",
    "roc_auc = make_scorer(roc_auc_score)\n",
    "\n",
    "grid_obj = GridSearchCV(clf, parameters, scoring=roc_auc)\n",
    "grid_obj = grid_obj.fit(X_train, y_train)\n",
    "\n",
    "clf = grid_obj.best_estimator_\n",
    "\n",
    "clf.fit(X_train, y_train)"
   ]
  },
  {
   "cell_type": "code",
   "execution_count": 8,
   "metadata": {},
   "outputs": [
    {
     "name": "stdout",
     "output_type": "stream",
     "text": [
      "0.8930993807136538\n"
     ]
    }
   ],
   "source": [
    "#Predict on model and get accuracy score\n",
    "predictions_5 = clf.predict(X_test)\n",
    "print(accuracy_score(y_test, predictions_5))"
   ]
  },
  {
   "cell_type": "code",
   "execution_count": 9,
   "metadata": {},
   "outputs": [
    {
     "data": {
      "text/plain": [
       "array([[11808,   176],\n",
       "       [ 1274,   306]], dtype=int64)"
      ]
     },
     "execution_count": 9,
     "metadata": {},
     "output_type": "execute_result"
    }
   ],
   "source": [
    "#Random forest confusion matrix\n",
    "confusion_matrix(y_test, predictions_5)"
   ]
  },
  {
   "cell_type": "markdown",
   "metadata": {},
   "source": [
    "**Top 10 Features Random Forest**"
   ]
  },
  {
   "cell_type": "code",
   "execution_count": 10,
   "metadata": {},
   "outputs": [],
   "source": [
    "X = top10_df\n",
    "\n",
    "X_train, X_test, y_train, y_test = train_test_split(X, y, test_size=0.30, random_state=23)"
   ]
  },
  {
   "cell_type": "code",
   "execution_count": 11,
   "metadata": {},
   "outputs": [
    {
     "data": {
      "text/plain": [
       "RandomForestClassifier(max_depth=9, max_features='log2', min_samples_leaf=3,\n",
       "                       min_samples_split=3, n_estimators=3)"
      ]
     },
     "execution_count": 11,
     "metadata": {},
     "output_type": "execute_result"
    }
   ],
   "source": [
    "#Create and gridsearch a random forest model for the data.\n",
    "rf10 = RandomForestClassifier()\n",
    "\n",
    "parameters = {'n_estimators': range(1,10), \n",
    "              'max_features': ['auto','sqrt','log2'], \n",
    "              'criterion': ['gini', 'entropy'],\n",
    "              'max_depth': range(1,10), \n",
    "              'min_samples_split': [2,3,6],\n",
    "              'min_samples_leaf': [1,2,3],\n",
    "             }\n",
    "\n",
    "roc_auc = make_scorer(roc_auc_score)\n",
    "\n",
    "grid_obj = GridSearchCV(rf10, parameters, scoring=roc_auc)\n",
    "grid_obj = grid_obj.fit(X_train, y_train)\n",
    "\n",
    "rf10 = grid_obj.best_estimator_\n",
    "\n",
    "rf10.fit(X_train, y_train)"
   ]
  },
  {
   "cell_type": "code",
   "execution_count": 12,
   "metadata": {},
   "outputs": [
    {
     "name": "stdout",
     "output_type": "stream",
     "text": [
      "0.8935417281038042\n"
     ]
    }
   ],
   "source": [
    "#Predict on model and get accuracy score\n",
    "predictions_10 = rf10.predict(X_test)\n",
    "print(accuracy_score(y_test, predictions_10))"
   ]
  },
  {
   "cell_type": "code",
   "execution_count": 13,
   "metadata": {},
   "outputs": [
    {
     "data": {
      "text/plain": [
       "array([[11837,   147],\n",
       "       [ 1297,   283]], dtype=int64)"
      ]
     },
     "execution_count": 13,
     "metadata": {},
     "output_type": "execute_result"
    }
   ],
   "source": [
    "#Random forest confusion matrix\n",
    "confusion_matrix(y_test, predictions_10)"
   ]
  },
  {
   "cell_type": "markdown",
   "metadata": {},
   "source": [
    "**Top 20 Random Forest**"
   ]
  },
  {
   "cell_type": "code",
   "execution_count": 14,
   "metadata": {},
   "outputs": [],
   "source": [
    "X = top20_df\n",
    "\n",
    "X_train, X_test, y_train, y_test = train_test_split(X, y, test_size=0.30, random_state=23)"
   ]
  },
  {
   "cell_type": "code",
   "execution_count": 15,
   "metadata": {},
   "outputs": [
    {
     "data": {
      "text/plain": [
       "RandomForestClassifier(max_depth=9, max_features='log2', min_samples_leaf=2,\n",
       "                       n_estimators=50)"
      ]
     },
     "execution_count": 15,
     "metadata": {},
     "output_type": "execute_result"
    }
   ],
   "source": [
    "#Create and gridsearch a random forest model for the data.\n",
    "rf20 = RandomForestClassifier()\n",
    "\n",
    "parameters = {'n_estimators': [10,25,30,40,50], \n",
    "              'max_features': ['log2'], \n",
    "              'criterion': ['gini', 'entropy'],\n",
    "              'max_depth': range(1,10), \n",
    "              'min_samples_split': [2,3,6],\n",
    "              'min_samples_leaf': [1,2,3],\n",
    "             }\n",
    "\n",
    "roc_auc = make_scorer(roc_auc_score)\n",
    "\n",
    "grid_obj = GridSearchCV(rf20, parameters, scoring=roc_auc)\n",
    "grid_obj = grid_obj.fit(X_train, y_train)\n",
    "\n",
    "rf20 = grid_obj.best_estimator_\n",
    "\n",
    "rf20.fit(X_train, y_train)"
   ]
  },
  {
   "cell_type": "code",
   "execution_count": 16,
   "metadata": {},
   "outputs": [
    {
     "name": "stdout",
     "output_type": "stream",
     "text": [
      "0.8941315246240047\n"
     ]
    }
   ],
   "source": [
    "#Predict on model and get accuracy score\n",
    "predictions_20 = rf20.predict(X_test)\n",
    "print(accuracy_score(y_test, predictions_20))"
   ]
  },
  {
   "cell_type": "code",
   "execution_count": 17,
   "metadata": {},
   "outputs": [
    {
     "data": {
      "text/plain": [
       "array([[11850,   134],\n",
       "       [ 1302,   278]], dtype=int64)"
      ]
     },
     "execution_count": 17,
     "metadata": {},
     "output_type": "execute_result"
    }
   ],
   "source": [
    "#Random forest confusion matrix\n",
    "confusion_matrix(y_test, predictions_20)"
   ]
  },
  {
   "cell_type": "markdown",
   "metadata": {},
   "source": [
    "**Top 30 Random Forest**"
   ]
  },
  {
   "cell_type": "code",
   "execution_count": 18,
   "metadata": {},
   "outputs": [],
   "source": [
    "X = top30_df\n",
    "\n",
    "X_train, X_test, y_train, y_test = train_test_split(X, y, test_size=0.30, random_state=23)"
   ]
  },
  {
   "cell_type": "code",
   "execution_count": 19,
   "metadata": {},
   "outputs": [
    {
     "data": {
      "text/plain": [
       "RandomForestClassifier(max_depth=9, max_features='log2', min_samples_split=6,\n",
       "                       n_estimators=40)"
      ]
     },
     "execution_count": 19,
     "metadata": {},
     "output_type": "execute_result"
    }
   ],
   "source": [
    "#Create and gridsearch a random forest model for the data.\n",
    "rf30 = RandomForestClassifier()\n",
    "\n",
    "parameters = {'n_estimators': [10,25,30,40,50], \n",
    "              'max_features': ['log2'], \n",
    "              'criterion': ['gini', 'entropy'],\n",
    "              'max_depth': range(1,10), \n",
    "              'min_samples_split': [2,3,6],\n",
    "              'min_samples_leaf': [1,2,3],\n",
    "             }\n",
    "\n",
    "roc_auc = make_scorer(roc_auc_score)\n",
    "\n",
    "grid_obj = GridSearchCV(rf30, parameters, scoring=roc_auc)\n",
    "grid_obj = grid_obj.fit(X_train, y_train)\n",
    "\n",
    "rf30 = grid_obj.best_estimator_\n",
    "\n",
    "rf30.fit(X_train, y_train)"
   ]
  },
  {
   "cell_type": "code",
   "execution_count": 20,
   "metadata": {},
   "outputs": [
    {
     "name": "stdout",
     "output_type": "stream",
     "text": [
      "0.8930256561486287\n"
     ]
    }
   ],
   "source": [
    "#Predict on model and get accuracy score\n",
    "predictions_30 = rf30.predict(X_test)\n",
    "print(accuracy_score(y_test, predictions_30))"
   ]
  },
  {
   "cell_type": "code",
   "execution_count": 21,
   "metadata": {},
   "outputs": [
    {
     "data": {
      "text/plain": [
       "array([[11878,   106],\n",
       "       [ 1345,   235]], dtype=int64)"
      ]
     },
     "execution_count": 21,
     "metadata": {},
     "output_type": "execute_result"
    }
   ],
   "source": [
    "#Random forest confusion matrix\n",
    "confusion_matrix(y_test, predictions_30)"
   ]
  }
 ],
 "metadata": {
  "kernelspec": {
   "display_name": "Python 3",
   "language": "python",
   "name": "python3"
  },
  "language_info": {
   "codemirror_mode": {
    "name": "ipython",
    "version": 3
   },
   "file_extension": ".py",
   "mimetype": "text/x-python",
   "name": "python",
   "nbconvert_exporter": "python",
   "pygments_lexer": "ipython3",
   "version": "3.6.5"
  }
 },
 "nbformat": 4,
 "nbformat_minor": 4
}
