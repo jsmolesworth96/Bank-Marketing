{
 "cells": [
  {
   "cell_type": "code",
   "execution_count": 58,
   "metadata": {},
   "outputs": [
    {
     "name": "stderr",
     "output_type": "stream",
     "text": [
      "C:\\Users\\Owner\\Anaconda3\\lib\\site-packages\\statsmodels\\tools\\_testing.py:19: FutureWarning: pandas.util.testing is deprecated. Use the functions in the public API at pandas.testing instead.\n",
      "  import pandas.util.testing as tm\n"
     ]
    }
   ],
   "source": [
    "import pandas as pd\n",
    "import numpy as np\n",
    "from sklearn.feature_selection import SelectKBest\n",
    "from sklearn.feature_selection import chi2\n",
    "from sklearn.ensemble import ExtraTreesClassifier\n",
    "import matplotlib.pyplot as plt\n",
    "from sklearn.model_selection import train_test_split\n",
    "from sklearn.ensemble import RandomForestClassifier\n",
    "from sklearn.model_selection import GridSearchCV\n",
    "from sklearn.metrics import make_scorer, accuracy_score\n",
    "from sklearn.metrics import roc_curve, roc_auc_score\n",
    "from sklearn.metrics import confusion_matrix\n",
    "from sklearn.linear_model import LogisticRegression\n",
    "from sklearn.neighbors import KNeighborsClassifier\n",
    "from sklearn.metrics import roc_auc_score\n",
    "import seaborn as sns"
   ]
  },
  {
   "cell_type": "markdown",
   "metadata": {},
   "source": [
    "**Univariate Selection**"
   ]
  },
  {
   "cell_type": "code",
   "execution_count": 2,
   "metadata": {},
   "outputs": [
    {
     "data": {
      "text/html": [
       "<div>\n",
       "<style scoped>\n",
       "    .dataframe tbody tr th:only-of-type {\n",
       "        vertical-align: middle;\n",
       "    }\n",
       "\n",
       "    .dataframe tbody tr th {\n",
       "        vertical-align: top;\n",
       "    }\n",
       "\n",
       "    .dataframe thead th {\n",
       "        text-align: right;\n",
       "    }\n",
       "</style>\n",
       "<table border=\"1\" class=\"dataframe\">\n",
       "  <thead>\n",
       "    <tr style=\"text-align: right;\">\n",
       "      <th></th>\n",
       "      <th>job_blue-collar</th>\n",
       "      <th>job_entrepreneur</th>\n",
       "      <th>job_housemaid</th>\n",
       "      <th>job_management</th>\n",
       "      <th>job_retired</th>\n",
       "      <th>job_self-employed</th>\n",
       "      <th>job_services</th>\n",
       "      <th>job_student</th>\n",
       "      <th>job_technician</th>\n",
       "      <th>job_unemployed</th>\n",
       "      <th>...</th>\n",
       "      <th>month_may</th>\n",
       "      <th>month_nov</th>\n",
       "      <th>month_oct</th>\n",
       "      <th>month_sep</th>\n",
       "      <th>poutcome_other</th>\n",
       "      <th>poutcome_success</th>\n",
       "      <th>poutcome_unknown</th>\n",
       "      <th>age_scaled</th>\n",
       "      <th>balance_scaled</th>\n",
       "      <th>subscribed</th>\n",
       "    </tr>\n",
       "  </thead>\n",
       "  <tbody>\n",
       "    <tr>\n",
       "      <th>0</th>\n",
       "      <td>0.0</td>\n",
       "      <td>0.0</td>\n",
       "      <td>0.0</td>\n",
       "      <td>1.0</td>\n",
       "      <td>0.0</td>\n",
       "      <td>0.0</td>\n",
       "      <td>0.0</td>\n",
       "      <td>0.0</td>\n",
       "      <td>0.0</td>\n",
       "      <td>0.0</td>\n",
       "      <td>...</td>\n",
       "      <td>1.0</td>\n",
       "      <td>0.0</td>\n",
       "      <td>0.0</td>\n",
       "      <td>0.0</td>\n",
       "      <td>0.0</td>\n",
       "      <td>0.0</td>\n",
       "      <td>1.0</td>\n",
       "      <td>1.266667</td>\n",
       "      <td>1.249263</td>\n",
       "      <td>0.0</td>\n",
       "    </tr>\n",
       "    <tr>\n",
       "      <th>1</th>\n",
       "      <td>0.0</td>\n",
       "      <td>0.0</td>\n",
       "      <td>0.0</td>\n",
       "      <td>0.0</td>\n",
       "      <td>0.0</td>\n",
       "      <td>0.0</td>\n",
       "      <td>0.0</td>\n",
       "      <td>0.0</td>\n",
       "      <td>1.0</td>\n",
       "      <td>0.0</td>\n",
       "      <td>...</td>\n",
       "      <td>1.0</td>\n",
       "      <td>0.0</td>\n",
       "      <td>0.0</td>\n",
       "      <td>0.0</td>\n",
       "      <td>0.0</td>\n",
       "      <td>0.0</td>\n",
       "      <td>1.0</td>\n",
       "      <td>0.333333</td>\n",
       "      <td>-0.309735</td>\n",
       "      <td>0.0</td>\n",
       "    </tr>\n",
       "    <tr>\n",
       "      <th>2</th>\n",
       "      <td>0.0</td>\n",
       "      <td>1.0</td>\n",
       "      <td>0.0</td>\n",
       "      <td>0.0</td>\n",
       "      <td>0.0</td>\n",
       "      <td>0.0</td>\n",
       "      <td>0.0</td>\n",
       "      <td>0.0</td>\n",
       "      <td>0.0</td>\n",
       "      <td>0.0</td>\n",
       "      <td>...</td>\n",
       "      <td>1.0</td>\n",
       "      <td>0.0</td>\n",
       "      <td>0.0</td>\n",
       "      <td>0.0</td>\n",
       "      <td>0.0</td>\n",
       "      <td>0.0</td>\n",
       "      <td>1.0</td>\n",
       "      <td>-0.400000</td>\n",
       "      <td>-0.329646</td>\n",
       "      <td>0.0</td>\n",
       "    </tr>\n",
       "    <tr>\n",
       "      <th>3</th>\n",
       "      <td>1.0</td>\n",
       "      <td>0.0</td>\n",
       "      <td>0.0</td>\n",
       "      <td>0.0</td>\n",
       "      <td>0.0</td>\n",
       "      <td>0.0</td>\n",
       "      <td>0.0</td>\n",
       "      <td>0.0</td>\n",
       "      <td>0.0</td>\n",
       "      <td>0.0</td>\n",
       "      <td>...</td>\n",
       "      <td>1.0</td>\n",
       "      <td>0.0</td>\n",
       "      <td>0.0</td>\n",
       "      <td>0.0</td>\n",
       "      <td>0.0</td>\n",
       "      <td>0.0</td>\n",
       "      <td>1.0</td>\n",
       "      <td>0.533333</td>\n",
       "      <td>0.779499</td>\n",
       "      <td>0.0</td>\n",
       "    </tr>\n",
       "    <tr>\n",
       "      <th>4</th>\n",
       "      <td>0.0</td>\n",
       "      <td>0.0</td>\n",
       "      <td>0.0</td>\n",
       "      <td>0.0</td>\n",
       "      <td>0.0</td>\n",
       "      <td>0.0</td>\n",
       "      <td>0.0</td>\n",
       "      <td>0.0</td>\n",
       "      <td>0.0</td>\n",
       "      <td>0.0</td>\n",
       "      <td>...</td>\n",
       "      <td>1.0</td>\n",
       "      <td>0.0</td>\n",
       "      <td>0.0</td>\n",
       "      <td>0.0</td>\n",
       "      <td>0.0</td>\n",
       "      <td>0.0</td>\n",
       "      <td>1.0</td>\n",
       "      <td>-0.400000</td>\n",
       "      <td>-0.330383</td>\n",
       "      <td>0.0</td>\n",
       "    </tr>\n",
       "  </tbody>\n",
       "</table>\n",
       "<p>5 rows × 38 columns</p>\n",
       "</div>"
      ],
      "text/plain": [
       "   job_blue-collar  job_entrepreneur  job_housemaid  job_management  \\\n",
       "0              0.0               0.0            0.0             1.0   \n",
       "1              0.0               0.0            0.0             0.0   \n",
       "2              0.0               1.0            0.0             0.0   \n",
       "3              1.0               0.0            0.0             0.0   \n",
       "4              0.0               0.0            0.0             0.0   \n",
       "\n",
       "   job_retired  job_self-employed  job_services  job_student  job_technician  \\\n",
       "0          0.0                0.0           0.0          0.0             0.0   \n",
       "1          0.0                0.0           0.0          0.0             1.0   \n",
       "2          0.0                0.0           0.0          0.0             0.0   \n",
       "3          0.0                0.0           0.0          0.0             0.0   \n",
       "4          0.0                0.0           0.0          0.0             0.0   \n",
       "\n",
       "   job_unemployed  ...  month_may  month_nov  month_oct  month_sep  \\\n",
       "0             0.0  ...        1.0        0.0        0.0        0.0   \n",
       "1             0.0  ...        1.0        0.0        0.0        0.0   \n",
       "2             0.0  ...        1.0        0.0        0.0        0.0   \n",
       "3             0.0  ...        1.0        0.0        0.0        0.0   \n",
       "4             0.0  ...        1.0        0.0        0.0        0.0   \n",
       "\n",
       "   poutcome_other  poutcome_success  poutcome_unknown  age_scaled  \\\n",
       "0             0.0               0.0               1.0    1.266667   \n",
       "1             0.0               0.0               1.0    0.333333   \n",
       "2             0.0               0.0               1.0   -0.400000   \n",
       "3             0.0               0.0               1.0    0.533333   \n",
       "4             0.0               0.0               1.0   -0.400000   \n",
       "\n",
       "   balance_scaled  subscribed  \n",
       "0        1.249263         0.0  \n",
       "1       -0.309735         0.0  \n",
       "2       -0.329646         0.0  \n",
       "3        0.779499         0.0  \n",
       "4       -0.330383         0.0  \n",
       "\n",
       "[5 rows x 38 columns]"
      ]
     },
     "execution_count": 2,
     "metadata": {},
     "output_type": "execute_result"
    }
   ],
   "source": [
    "df1 = pd.read_csv('bank_df.csv')\n",
    "df1.head()"
   ]
  },
  {
   "cell_type": "code",
   "execution_count": 3,
   "metadata": {},
   "outputs": [],
   "source": [
    "df = pd.read_csv(\"bank_df.csv\")\n",
    "X = df.iloc[:,0:35]  #independent columns\n",
    "X5 = df.iloc[:,:5]\n",
    "X10 = df.iloc[:,:10]\n",
    "X20 = df.iloc[:,:20]\n",
    "X30 = df.iloc[:,:30]\n",
    "y = df.iloc[:,-1]    #target column i.e price range"
   ]
  },
  {
   "cell_type": "code",
   "execution_count": 4,
   "metadata": {},
   "outputs": [
    {
     "name": "stdout",
     "output_type": "stream",
     "text": [
      "                  Specs        Score\n",
      "33     poutcome_success  4102.364079\n",
      "27            month_mar   751.390676\n",
      "30            month_oct   736.544197\n",
      "20      contact_unknown   730.603443\n",
      "31            month_sep   678.905604\n",
      "17          housing_yes   386.946356\n",
      "28            month_may   328.216293\n",
      "4           job_retired   264.230749\n",
      "7           job_student   257.473070\n",
      "22            month_dec   254.830097\n",
      "34     poutcome_unknown   229.873875\n",
      "0       job_blue-collar   182.752541\n",
      "18             loan_yes   176.351728\n",
      "14   education_tertiary   141.919597\n",
      "12       marital_single   130.676994\n",
      "11      marital_married    65.256115\n",
      "23            month_feb    63.367162\n",
      "32       poutcome_other    44.948695\n",
      "25            month_jul    44.564087\n",
      "3        job_management    39.195984\n",
      "6          job_services    31.395433\n",
      "13  education_secondary    29.669913\n",
      "16          default_yes    22.190861\n",
      "9        job_unemployed    18.455529\n",
      "1      job_entrepreneur    16.680984\n",
      "29            month_nov    12.301400\n",
      "26            month_jun    10.996943\n",
      "2         job_housemaid    10.038611\n",
      "19    contact_telephone     8.574138\n",
      "15    education_unknown     6.430708\n",
      "24            month_jan     3.305687\n",
      "8        job_technician     3.132882\n",
      "21            month_aug     2.534350\n",
      "5     job_self-employed     0.040535\n",
      "10          job_unknown     0.004387\n"
     ]
    }
   ],
   "source": [
    "#apply SelectKBest class to extract top 10 best features\n",
    "bestfeatures = SelectKBest(score_func=chi2, k=10)\n",
    "fit = bestfeatures.fit(X,y)\n",
    "dfscores = pd.DataFrame(fit.scores_)\n",
    "dfcolumns = pd.DataFrame(X.columns)\n",
    "\n",
    "#concat two dataframes for better visualization \n",
    "featureScores = pd.concat([dfcolumns,dfscores],axis=1)\n",
    "featureScores.columns = ['Specs','Score']  #naming the dataframe columns\n",
    "print(featureScores.nlargest(38,'Score'))  #print 10 best features"
   ]
  },
  {
   "cell_type": "code",
   "execution_count": 5,
   "metadata": {},
   "outputs": [
    {
     "data": {
      "text/html": [
       "<div>\n",
       "<style scoped>\n",
       "    .dataframe tbody tr th:only-of-type {\n",
       "        vertical-align: middle;\n",
       "    }\n",
       "\n",
       "    .dataframe tbody tr th {\n",
       "        vertical-align: top;\n",
       "    }\n",
       "\n",
       "    .dataframe thead th {\n",
       "        text-align: right;\n",
       "    }\n",
       "</style>\n",
       "<table border=\"1\" class=\"dataframe\">\n",
       "  <thead>\n",
       "    <tr style=\"text-align: right;\">\n",
       "      <th></th>\n",
       "      <th>poutcome_success</th>\n",
       "      <th>month_mar</th>\n",
       "      <th>month_oct</th>\n",
       "      <th>contact_unknown</th>\n",
       "      <th>month_sep</th>\n",
       "      <th>housing_yes</th>\n",
       "      <th>month_may</th>\n",
       "      <th>job_retired</th>\n",
       "      <th>job_student</th>\n",
       "      <th>month_dec</th>\n",
       "      <th>...</th>\n",
       "      <th>month_nov</th>\n",
       "      <th>month_jun</th>\n",
       "      <th>job_housemaid</th>\n",
       "      <th>contact_telephone</th>\n",
       "      <th>education_unknown</th>\n",
       "      <th>month_jan</th>\n",
       "      <th>job_technician</th>\n",
       "      <th>month_aug</th>\n",
       "      <th>job_self-employed</th>\n",
       "      <th>job_unknown</th>\n",
       "    </tr>\n",
       "  </thead>\n",
       "  <tbody>\n",
       "    <tr>\n",
       "      <th>0</th>\n",
       "      <td>0.0</td>\n",
       "      <td>0.0</td>\n",
       "      <td>0.0</td>\n",
       "      <td>1.0</td>\n",
       "      <td>0.0</td>\n",
       "      <td>1.0</td>\n",
       "      <td>1.0</td>\n",
       "      <td>0.0</td>\n",
       "      <td>0.0</td>\n",
       "      <td>0.0</td>\n",
       "      <td>...</td>\n",
       "      <td>0.0</td>\n",
       "      <td>0.0</td>\n",
       "      <td>0.0</td>\n",
       "      <td>0.0</td>\n",
       "      <td>0.0</td>\n",
       "      <td>0.0</td>\n",
       "      <td>0.0</td>\n",
       "      <td>0.0</td>\n",
       "      <td>0.0</td>\n",
       "      <td>0.0</td>\n",
       "    </tr>\n",
       "    <tr>\n",
       "      <th>1</th>\n",
       "      <td>0.0</td>\n",
       "      <td>0.0</td>\n",
       "      <td>0.0</td>\n",
       "      <td>1.0</td>\n",
       "      <td>0.0</td>\n",
       "      <td>1.0</td>\n",
       "      <td>1.0</td>\n",
       "      <td>0.0</td>\n",
       "      <td>0.0</td>\n",
       "      <td>0.0</td>\n",
       "      <td>...</td>\n",
       "      <td>0.0</td>\n",
       "      <td>0.0</td>\n",
       "      <td>0.0</td>\n",
       "      <td>0.0</td>\n",
       "      <td>0.0</td>\n",
       "      <td>0.0</td>\n",
       "      <td>1.0</td>\n",
       "      <td>0.0</td>\n",
       "      <td>0.0</td>\n",
       "      <td>0.0</td>\n",
       "    </tr>\n",
       "    <tr>\n",
       "      <th>2</th>\n",
       "      <td>0.0</td>\n",
       "      <td>0.0</td>\n",
       "      <td>0.0</td>\n",
       "      <td>1.0</td>\n",
       "      <td>0.0</td>\n",
       "      <td>1.0</td>\n",
       "      <td>1.0</td>\n",
       "      <td>0.0</td>\n",
       "      <td>0.0</td>\n",
       "      <td>0.0</td>\n",
       "      <td>...</td>\n",
       "      <td>0.0</td>\n",
       "      <td>0.0</td>\n",
       "      <td>0.0</td>\n",
       "      <td>0.0</td>\n",
       "      <td>0.0</td>\n",
       "      <td>0.0</td>\n",
       "      <td>0.0</td>\n",
       "      <td>0.0</td>\n",
       "      <td>0.0</td>\n",
       "      <td>0.0</td>\n",
       "    </tr>\n",
       "    <tr>\n",
       "      <th>3</th>\n",
       "      <td>0.0</td>\n",
       "      <td>0.0</td>\n",
       "      <td>0.0</td>\n",
       "      <td>1.0</td>\n",
       "      <td>0.0</td>\n",
       "      <td>1.0</td>\n",
       "      <td>1.0</td>\n",
       "      <td>0.0</td>\n",
       "      <td>0.0</td>\n",
       "      <td>0.0</td>\n",
       "      <td>...</td>\n",
       "      <td>0.0</td>\n",
       "      <td>0.0</td>\n",
       "      <td>0.0</td>\n",
       "      <td>0.0</td>\n",
       "      <td>1.0</td>\n",
       "      <td>0.0</td>\n",
       "      <td>0.0</td>\n",
       "      <td>0.0</td>\n",
       "      <td>0.0</td>\n",
       "      <td>0.0</td>\n",
       "    </tr>\n",
       "    <tr>\n",
       "      <th>4</th>\n",
       "      <td>0.0</td>\n",
       "      <td>0.0</td>\n",
       "      <td>0.0</td>\n",
       "      <td>1.0</td>\n",
       "      <td>0.0</td>\n",
       "      <td>0.0</td>\n",
       "      <td>1.0</td>\n",
       "      <td>0.0</td>\n",
       "      <td>0.0</td>\n",
       "      <td>0.0</td>\n",
       "      <td>...</td>\n",
       "      <td>0.0</td>\n",
       "      <td>0.0</td>\n",
       "      <td>0.0</td>\n",
       "      <td>0.0</td>\n",
       "      <td>1.0</td>\n",
       "      <td>0.0</td>\n",
       "      <td>0.0</td>\n",
       "      <td>0.0</td>\n",
       "      <td>0.0</td>\n",
       "      <td>1.0</td>\n",
       "    </tr>\n",
       "  </tbody>\n",
       "</table>\n",
       "<p>5 rows × 35 columns</p>\n",
       "</div>"
      ],
      "text/plain": [
       "   poutcome_success  month_mar  month_oct  contact_unknown  month_sep  \\\n",
       "0               0.0        0.0        0.0              1.0        0.0   \n",
       "1               0.0        0.0        0.0              1.0        0.0   \n",
       "2               0.0        0.0        0.0              1.0        0.0   \n",
       "3               0.0        0.0        0.0              1.0        0.0   \n",
       "4               0.0        0.0        0.0              1.0        0.0   \n",
       "\n",
       "   housing_yes  month_may  job_retired  job_student  month_dec  ...  \\\n",
       "0          1.0        1.0          0.0          0.0        0.0  ...   \n",
       "1          1.0        1.0          0.0          0.0        0.0  ...   \n",
       "2          1.0        1.0          0.0          0.0        0.0  ...   \n",
       "3          1.0        1.0          0.0          0.0        0.0  ...   \n",
       "4          0.0        1.0          0.0          0.0        0.0  ...   \n",
       "\n",
       "   month_nov  month_jun  job_housemaid  contact_telephone  education_unknown  \\\n",
       "0        0.0        0.0            0.0                0.0                0.0   \n",
       "1        0.0        0.0            0.0                0.0                0.0   \n",
       "2        0.0        0.0            0.0                0.0                0.0   \n",
       "3        0.0        0.0            0.0                0.0                1.0   \n",
       "4        0.0        0.0            0.0                0.0                1.0   \n",
       "\n",
       "   month_jan  job_technician  month_aug  job_self-employed  job_unknown  \n",
       "0        0.0             0.0        0.0                0.0          0.0  \n",
       "1        0.0             1.0        0.0                0.0          0.0  \n",
       "2        0.0             0.0        0.0                0.0          0.0  \n",
       "3        0.0             0.0        0.0                0.0          0.0  \n",
       "4        0.0             0.0        0.0                0.0          1.0  \n",
       "\n",
       "[5 rows x 35 columns]"
      ]
     },
     "execution_count": 5,
     "metadata": {},
     "output_type": "execute_result"
    }
   ],
   "source": [
    "ordered_df = featureScores.nlargest(38,'Score')\n",
    "df = df[list(ordered_df['Specs'].values)]\n",
    "df.head()"
   ]
  },
  {
   "cell_type": "code",
   "execution_count": 6,
   "metadata": {},
   "outputs": [],
   "source": [
    "X_train, X_test, y_train, y_test = train_test_split(X, y, test_size=0.30, random_state=23)"
   ]
  },
  {
   "cell_type": "code",
   "execution_count": 7,
   "metadata": {},
   "outputs": [
    {
     "data": {
      "text/html": [
       "<div>\n",
       "<style scoped>\n",
       "    .dataframe tbody tr th:only-of-type {\n",
       "        vertical-align: middle;\n",
       "    }\n",
       "\n",
       "    .dataframe tbody tr th {\n",
       "        vertical-align: top;\n",
       "    }\n",
       "\n",
       "    .dataframe thead th {\n",
       "        text-align: right;\n",
       "    }\n",
       "</style>\n",
       "<table border=\"1\" class=\"dataframe\">\n",
       "  <thead>\n",
       "    <tr style=\"text-align: right;\">\n",
       "      <th></th>\n",
       "      <th>job_blue-collar</th>\n",
       "      <th>job_entrepreneur</th>\n",
       "      <th>job_housemaid</th>\n",
       "      <th>job_management</th>\n",
       "      <th>job_retired</th>\n",
       "      <th>job_self-employed</th>\n",
       "      <th>job_services</th>\n",
       "      <th>job_student</th>\n",
       "      <th>job_technician</th>\n",
       "      <th>job_unemployed</th>\n",
       "      <th>...</th>\n",
       "      <th>month_jul</th>\n",
       "      <th>month_jun</th>\n",
       "      <th>month_mar</th>\n",
       "      <th>month_may</th>\n",
       "      <th>month_nov</th>\n",
       "      <th>month_oct</th>\n",
       "      <th>month_sep</th>\n",
       "      <th>poutcome_other</th>\n",
       "      <th>poutcome_success</th>\n",
       "      <th>poutcome_unknown</th>\n",
       "    </tr>\n",
       "  </thead>\n",
       "  <tbody>\n",
       "    <tr>\n",
       "      <th>43918</th>\n",
       "      <td>0.0</td>\n",
       "      <td>0.0</td>\n",
       "      <td>0.0</td>\n",
       "      <td>1.0</td>\n",
       "      <td>0.0</td>\n",
       "      <td>0.0</td>\n",
       "      <td>0.0</td>\n",
       "      <td>0.0</td>\n",
       "      <td>0.0</td>\n",
       "      <td>0.0</td>\n",
       "      <td>...</td>\n",
       "      <td>0.0</td>\n",
       "      <td>1.0</td>\n",
       "      <td>0.0</td>\n",
       "      <td>0.0</td>\n",
       "      <td>0.0</td>\n",
       "      <td>0.0</td>\n",
       "      <td>0.0</td>\n",
       "      <td>0.0</td>\n",
       "      <td>0.0</td>\n",
       "      <td>0.0</td>\n",
       "    </tr>\n",
       "    <tr>\n",
       "      <th>43429</th>\n",
       "      <td>0.0</td>\n",
       "      <td>1.0</td>\n",
       "      <td>0.0</td>\n",
       "      <td>0.0</td>\n",
       "      <td>0.0</td>\n",
       "      <td>0.0</td>\n",
       "      <td>0.0</td>\n",
       "      <td>0.0</td>\n",
       "      <td>0.0</td>\n",
       "      <td>0.0</td>\n",
       "      <td>...</td>\n",
       "      <td>0.0</td>\n",
       "      <td>0.0</td>\n",
       "      <td>0.0</td>\n",
       "      <td>0.0</td>\n",
       "      <td>0.0</td>\n",
       "      <td>0.0</td>\n",
       "      <td>0.0</td>\n",
       "      <td>0.0</td>\n",
       "      <td>1.0</td>\n",
       "      <td>0.0</td>\n",
       "    </tr>\n",
       "    <tr>\n",
       "      <th>18310</th>\n",
       "      <td>1.0</td>\n",
       "      <td>0.0</td>\n",
       "      <td>0.0</td>\n",
       "      <td>0.0</td>\n",
       "      <td>0.0</td>\n",
       "      <td>0.0</td>\n",
       "      <td>0.0</td>\n",
       "      <td>0.0</td>\n",
       "      <td>0.0</td>\n",
       "      <td>0.0</td>\n",
       "      <td>...</td>\n",
       "      <td>1.0</td>\n",
       "      <td>0.0</td>\n",
       "      <td>0.0</td>\n",
       "      <td>0.0</td>\n",
       "      <td>0.0</td>\n",
       "      <td>0.0</td>\n",
       "      <td>0.0</td>\n",
       "      <td>0.0</td>\n",
       "      <td>0.0</td>\n",
       "      <td>1.0</td>\n",
       "    </tr>\n",
       "    <tr>\n",
       "      <th>35431</th>\n",
       "      <td>0.0</td>\n",
       "      <td>0.0</td>\n",
       "      <td>0.0</td>\n",
       "      <td>1.0</td>\n",
       "      <td>0.0</td>\n",
       "      <td>0.0</td>\n",
       "      <td>0.0</td>\n",
       "      <td>0.0</td>\n",
       "      <td>0.0</td>\n",
       "      <td>0.0</td>\n",
       "      <td>...</td>\n",
       "      <td>0.0</td>\n",
       "      <td>0.0</td>\n",
       "      <td>0.0</td>\n",
       "      <td>1.0</td>\n",
       "      <td>0.0</td>\n",
       "      <td>0.0</td>\n",
       "      <td>0.0</td>\n",
       "      <td>0.0</td>\n",
       "      <td>1.0</td>\n",
       "      <td>0.0</td>\n",
       "    </tr>\n",
       "    <tr>\n",
       "      <th>39183</th>\n",
       "      <td>1.0</td>\n",
       "      <td>0.0</td>\n",
       "      <td>0.0</td>\n",
       "      <td>0.0</td>\n",
       "      <td>0.0</td>\n",
       "      <td>0.0</td>\n",
       "      <td>0.0</td>\n",
       "      <td>0.0</td>\n",
       "      <td>0.0</td>\n",
       "      <td>0.0</td>\n",
       "      <td>...</td>\n",
       "      <td>0.0</td>\n",
       "      <td>0.0</td>\n",
       "      <td>0.0</td>\n",
       "      <td>1.0</td>\n",
       "      <td>0.0</td>\n",
       "      <td>0.0</td>\n",
       "      <td>0.0</td>\n",
       "      <td>0.0</td>\n",
       "      <td>0.0</td>\n",
       "      <td>1.0</td>\n",
       "    </tr>\n",
       "    <tr>\n",
       "      <th>...</th>\n",
       "      <td>...</td>\n",
       "      <td>...</td>\n",
       "      <td>...</td>\n",
       "      <td>...</td>\n",
       "      <td>...</td>\n",
       "      <td>...</td>\n",
       "      <td>...</td>\n",
       "      <td>...</td>\n",
       "      <td>...</td>\n",
       "      <td>...</td>\n",
       "      <td>...</td>\n",
       "      <td>...</td>\n",
       "      <td>...</td>\n",
       "      <td>...</td>\n",
       "      <td>...</td>\n",
       "      <td>...</td>\n",
       "      <td>...</td>\n",
       "      <td>...</td>\n",
       "      <td>...</td>\n",
       "      <td>...</td>\n",
       "      <td>...</td>\n",
       "    </tr>\n",
       "    <tr>\n",
       "      <th>9704</th>\n",
       "      <td>0.0</td>\n",
       "      <td>0.0</td>\n",
       "      <td>0.0</td>\n",
       "      <td>0.0</td>\n",
       "      <td>0.0</td>\n",
       "      <td>1.0</td>\n",
       "      <td>0.0</td>\n",
       "      <td>0.0</td>\n",
       "      <td>0.0</td>\n",
       "      <td>0.0</td>\n",
       "      <td>...</td>\n",
       "      <td>0.0</td>\n",
       "      <td>1.0</td>\n",
       "      <td>0.0</td>\n",
       "      <td>0.0</td>\n",
       "      <td>0.0</td>\n",
       "      <td>0.0</td>\n",
       "      <td>0.0</td>\n",
       "      <td>0.0</td>\n",
       "      <td>0.0</td>\n",
       "      <td>1.0</td>\n",
       "    </tr>\n",
       "    <tr>\n",
       "      <th>11190</th>\n",
       "      <td>1.0</td>\n",
       "      <td>0.0</td>\n",
       "      <td>0.0</td>\n",
       "      <td>0.0</td>\n",
       "      <td>0.0</td>\n",
       "      <td>0.0</td>\n",
       "      <td>0.0</td>\n",
       "      <td>0.0</td>\n",
       "      <td>0.0</td>\n",
       "      <td>0.0</td>\n",
       "      <td>...</td>\n",
       "      <td>0.0</td>\n",
       "      <td>1.0</td>\n",
       "      <td>0.0</td>\n",
       "      <td>0.0</td>\n",
       "      <td>0.0</td>\n",
       "      <td>0.0</td>\n",
       "      <td>0.0</td>\n",
       "      <td>0.0</td>\n",
       "      <td>0.0</td>\n",
       "      <td>1.0</td>\n",
       "    </tr>\n",
       "    <tr>\n",
       "      <th>26569</th>\n",
       "      <td>0.0</td>\n",
       "      <td>0.0</td>\n",
       "      <td>0.0</td>\n",
       "      <td>0.0</td>\n",
       "      <td>0.0</td>\n",
       "      <td>0.0</td>\n",
       "      <td>0.0</td>\n",
       "      <td>0.0</td>\n",
       "      <td>0.0</td>\n",
       "      <td>0.0</td>\n",
       "      <td>...</td>\n",
       "      <td>0.0</td>\n",
       "      <td>0.0</td>\n",
       "      <td>0.0</td>\n",
       "      <td>0.0</td>\n",
       "      <td>1.0</td>\n",
       "      <td>0.0</td>\n",
       "      <td>0.0</td>\n",
       "      <td>0.0</td>\n",
       "      <td>0.0</td>\n",
       "      <td>1.0</td>\n",
       "    </tr>\n",
       "    <tr>\n",
       "      <th>9256</th>\n",
       "      <td>0.0</td>\n",
       "      <td>0.0</td>\n",
       "      <td>0.0</td>\n",
       "      <td>0.0</td>\n",
       "      <td>0.0</td>\n",
       "      <td>0.0</td>\n",
       "      <td>0.0</td>\n",
       "      <td>0.0</td>\n",
       "      <td>1.0</td>\n",
       "      <td>0.0</td>\n",
       "      <td>...</td>\n",
       "      <td>0.0</td>\n",
       "      <td>1.0</td>\n",
       "      <td>0.0</td>\n",
       "      <td>0.0</td>\n",
       "      <td>0.0</td>\n",
       "      <td>0.0</td>\n",
       "      <td>0.0</td>\n",
       "      <td>0.0</td>\n",
       "      <td>0.0</td>\n",
       "      <td>1.0</td>\n",
       "    </tr>\n",
       "    <tr>\n",
       "      <th>41555</th>\n",
       "      <td>0.0</td>\n",
       "      <td>0.0</td>\n",
       "      <td>0.0</td>\n",
       "      <td>0.0</td>\n",
       "      <td>0.0</td>\n",
       "      <td>0.0</td>\n",
       "      <td>0.0</td>\n",
       "      <td>0.0</td>\n",
       "      <td>1.0</td>\n",
       "      <td>0.0</td>\n",
       "      <td>...</td>\n",
       "      <td>0.0</td>\n",
       "      <td>0.0</td>\n",
       "      <td>0.0</td>\n",
       "      <td>0.0</td>\n",
       "      <td>0.0</td>\n",
       "      <td>0.0</td>\n",
       "      <td>1.0</td>\n",
       "      <td>0.0</td>\n",
       "      <td>0.0</td>\n",
       "      <td>0.0</td>\n",
       "    </tr>\n",
       "  </tbody>\n",
       "</table>\n",
       "<p>31625 rows × 35 columns</p>\n",
       "</div>"
      ],
      "text/plain": [
       "       job_blue-collar  job_entrepreneur  job_housemaid  job_management  \\\n",
       "43918              0.0               0.0            0.0             1.0   \n",
       "43429              0.0               1.0            0.0             0.0   \n",
       "18310              1.0               0.0            0.0             0.0   \n",
       "35431              0.0               0.0            0.0             1.0   \n",
       "39183              1.0               0.0            0.0             0.0   \n",
       "...                ...               ...            ...             ...   \n",
       "9704               0.0               0.0            0.0             0.0   \n",
       "11190              1.0               0.0            0.0             0.0   \n",
       "26569              0.0               0.0            0.0             0.0   \n",
       "9256               0.0               0.0            0.0             0.0   \n",
       "41555              0.0               0.0            0.0             0.0   \n",
       "\n",
       "       job_retired  job_self-employed  job_services  job_student  \\\n",
       "43918          0.0                0.0           0.0          0.0   \n",
       "43429          0.0                0.0           0.0          0.0   \n",
       "18310          0.0                0.0           0.0          0.0   \n",
       "35431          0.0                0.0           0.0          0.0   \n",
       "39183          0.0                0.0           0.0          0.0   \n",
       "...            ...                ...           ...          ...   \n",
       "9704           0.0                1.0           0.0          0.0   \n",
       "11190          0.0                0.0           0.0          0.0   \n",
       "26569          0.0                0.0           0.0          0.0   \n",
       "9256           0.0                0.0           0.0          0.0   \n",
       "41555          0.0                0.0           0.0          0.0   \n",
       "\n",
       "       job_technician  job_unemployed  ...  month_jul  month_jun  month_mar  \\\n",
       "43918             0.0             0.0  ...        0.0        1.0        0.0   \n",
       "43429             0.0             0.0  ...        0.0        0.0        0.0   \n",
       "18310             0.0             0.0  ...        1.0        0.0        0.0   \n",
       "35431             0.0             0.0  ...        0.0        0.0        0.0   \n",
       "39183             0.0             0.0  ...        0.0        0.0        0.0   \n",
       "...               ...             ...  ...        ...        ...        ...   \n",
       "9704              0.0             0.0  ...        0.0        1.0        0.0   \n",
       "11190             0.0             0.0  ...        0.0        1.0        0.0   \n",
       "26569             0.0             0.0  ...        0.0        0.0        0.0   \n",
       "9256              1.0             0.0  ...        0.0        1.0        0.0   \n",
       "41555             1.0             0.0  ...        0.0        0.0        0.0   \n",
       "\n",
       "       month_may  month_nov  month_oct  month_sep  poutcome_other  \\\n",
       "43918        0.0        0.0        0.0        0.0             0.0   \n",
       "43429        0.0        0.0        0.0        0.0             0.0   \n",
       "18310        0.0        0.0        0.0        0.0             0.0   \n",
       "35431        1.0        0.0        0.0        0.0             0.0   \n",
       "39183        1.0        0.0        0.0        0.0             0.0   \n",
       "...          ...        ...        ...        ...             ...   \n",
       "9704         0.0        0.0        0.0        0.0             0.0   \n",
       "11190        0.0        0.0        0.0        0.0             0.0   \n",
       "26569        0.0        1.0        0.0        0.0             0.0   \n",
       "9256         0.0        0.0        0.0        0.0             0.0   \n",
       "41555        0.0        0.0        0.0        1.0             0.0   \n",
       "\n",
       "       poutcome_success  poutcome_unknown  \n",
       "43918               0.0               0.0  \n",
       "43429               1.0               0.0  \n",
       "18310               0.0               1.0  \n",
       "35431               1.0               0.0  \n",
       "39183               0.0               1.0  \n",
       "...                 ...               ...  \n",
       "9704                0.0               1.0  \n",
       "11190               0.0               1.0  \n",
       "26569               0.0               1.0  \n",
       "9256                0.0               1.0  \n",
       "41555               0.0               0.0  \n",
       "\n",
       "[31625 rows x 35 columns]"
      ]
     },
     "execution_count": 7,
     "metadata": {},
     "output_type": "execute_result"
    }
   ],
   "source": [
    "X_train"
   ]
  },
  {
   "cell_type": "code",
   "execution_count": 8,
   "metadata": {},
   "outputs": [],
   "source": [
    "#Create dataframes with different feature sets\n",
    "X_train5 = X_train.iloc[:,:5]\n",
    "X_train10 = X_train.iloc[:,:10]\n",
    "X_train20 = X_train.iloc[:,:20]\n",
    "X_train30 = X_train.iloc[:,:30]"
   ]
  },
  {
   "cell_type": "markdown",
   "metadata": {},
   "source": [
    "**Top 5 Features Random Forest**"
   ]
  },
  {
   "cell_type": "code",
   "execution_count": 9,
   "metadata": {},
   "outputs": [
    {
     "data": {
      "text/plain": [
       "RandomForestClassifier(max_depth=9, max_features='log2', min_samples_leaf=2,\n",
       "                       min_samples_split=6, n_estimators=10)"
      ]
     },
     "execution_count": 9,
     "metadata": {},
     "output_type": "execute_result"
    }
   ],
   "source": [
    "#Create and gridsearch a random forest model for the data.\n",
    "rf5 = RandomForestClassifier()\n",
    "\n",
    "parameters = {'n_estimators': [10], \n",
    "              'max_features': ['log2'], \n",
    "              'criterion': ['gini', 'entropy'],\n",
    "              'max_depth': [9], \n",
    "              'min_samples_split': [6],\n",
    "              'min_samples_leaf': [2]\n",
    "             }\n",
    "\n",
    "roc_auc = make_scorer(roc_auc_score)\n",
    "\n",
    "grid_obj = GridSearchCV(rf5, parameters, scoring=roc_auc)\n",
    "grid_obj = grid_obj.fit(X_train5, y_train)\n",
    "\n",
    "rf5 = grid_obj.best_estimator_\n",
    "\n",
    "rf5.fit(X_train5, y_train)"
   ]
  },
  {
   "cell_type": "code",
   "execution_count": 10,
   "metadata": {},
   "outputs": [
    {
     "data": {
      "text/plain": [
       "0.5806944110854424"
      ]
     },
     "execution_count": 10,
     "metadata": {},
     "output_type": "execute_result"
    }
   ],
   "source": [
    "roc_auc_score(y, rf5.predict_proba(X5)[:, 1])"
   ]
  },
  {
   "cell_type": "markdown",
   "metadata": {},
   "source": [
    "**Top 10 Features Random Forest**"
   ]
  },
  {
   "cell_type": "code",
   "execution_count": 11,
   "metadata": {},
   "outputs": [
    {
     "data": {
      "text/plain": [
       "RandomForestClassifier(criterion='entropy', max_depth=9, max_features='log2',\n",
       "                       min_samples_leaf=3, n_estimators=10)"
      ]
     },
     "execution_count": 11,
     "metadata": {},
     "output_type": "execute_result"
    }
   ],
   "source": [
    "#Create and gridsearch a random forest model for the data.\n",
    "rf10 = RandomForestClassifier()\n",
    "\n",
    "parameters = {'n_estimators': [10], \n",
    "              'max_features': ['log2'], \n",
    "              'criterion': ['entropy'],\n",
    "              'max_depth': [9], \n",
    "              'min_samples_split': [2,3,6],\n",
    "              'min_samples_leaf': [3],\n",
    "             }\n",
    "\n",
    "roc_auc = make_scorer(roc_auc_score)\n",
    "\n",
    "grid_obj = GridSearchCV(rf10, parameters, scoring=roc_auc)\n",
    "grid_obj = grid_obj.fit(X_train10, y_train)\n",
    "\n",
    "rf10 = grid_obj.best_estimator_\n",
    "\n",
    "rf10.fit(X_train10, y_train)"
   ]
  },
  {
   "cell_type": "code",
   "execution_count": 12,
   "metadata": {},
   "outputs": [
    {
     "data": {
      "text/plain": [
       "0.6040885207606467"
      ]
     },
     "execution_count": 12,
     "metadata": {},
     "output_type": "execute_result"
    }
   ],
   "source": [
    "roc_auc_score(y, rf10.predict_proba(X10)[:, 1])"
   ]
  },
  {
   "cell_type": "markdown",
   "metadata": {},
   "source": [
    "**Top 20 Random Forest**"
   ]
  },
  {
   "cell_type": "code",
   "execution_count": 13,
   "metadata": {},
   "outputs": [
    {
     "data": {
      "text/plain": [
       "RandomForestClassifier(criterion='entropy', max_depth=9, max_features='log2',\n",
       "                       min_samples_leaf=3, min_samples_split=6,\n",
       "                       n_estimators=10)"
      ]
     },
     "execution_count": 13,
     "metadata": {},
     "output_type": "execute_result"
    }
   ],
   "source": [
    "#Create and gridsearch a random forest model for the data.\n",
    "rf20 = RandomForestClassifier()\n",
    "\n",
    "parameters = {'n_estimators': [10], \n",
    "              'max_features': ['log2'], \n",
    "              'criterion': ['gini', 'entropy'],\n",
    "              'max_depth': [9], \n",
    "              'min_samples_split': [6],\n",
    "              'min_samples_leaf': [3],\n",
    "             }\n",
    "\n",
    "roc_auc = make_scorer(roc_auc_score)\n",
    "\n",
    "grid_obj = GridSearchCV(rf20, parameters, scoring=roc_auc)\n",
    "grid_obj = grid_obj.fit(X_train20, y_train)\n",
    "\n",
    "rf20 = grid_obj.best_estimator_\n",
    "\n",
    "rf20.fit(X_train20, y_train)"
   ]
  },
  {
   "cell_type": "code",
   "execution_count": 14,
   "metadata": {},
   "outputs": [
    {
     "data": {
      "text/plain": [
       "0.6812481535798331"
      ]
     },
     "execution_count": 14,
     "metadata": {},
     "output_type": "execute_result"
    }
   ],
   "source": [
    "roc_auc_score(y, rf20.predict_proba(X20)[:, 1])"
   ]
  },
  {
   "cell_type": "markdown",
   "metadata": {},
   "source": [
    "**Top 30 Random Forest**"
   ]
  },
  {
   "cell_type": "code",
   "execution_count": 15,
   "metadata": {},
   "outputs": [
    {
     "data": {
      "text/plain": [
       "RandomForestClassifier(criterion='entropy', max_depth=9, max_features='log2',\n",
       "                       min_samples_leaf=2, min_samples_split=3,\n",
       "                       n_estimators=10)"
      ]
     },
     "execution_count": 15,
     "metadata": {},
     "output_type": "execute_result"
    }
   ],
   "source": [
    "#Create and gridsearch a random forest model for the data.\n",
    "rf30 = RandomForestClassifier()\n",
    "\n",
    "parameters = {'n_estimators': [10], \n",
    "              'max_features': ['log2'], \n",
    "              'criterion': ['gini', 'entropy'],\n",
    "              'max_depth': [9], \n",
    "              'min_samples_split': [3],\n",
    "              'min_samples_leaf': [2],\n",
    "             }\n",
    "\n",
    "roc_auc = make_scorer(roc_auc_score)\n",
    "\n",
    "grid_obj = GridSearchCV(rf30, parameters, scoring=roc_auc)\n",
    "grid_obj = grid_obj.fit(X_train30, y_train)\n",
    "\n",
    "rf30 = grid_obj.best_estimator_\n",
    "\n",
    "rf30.fit(X_train30, y_train)"
   ]
  },
  {
   "cell_type": "code",
   "execution_count": 16,
   "metadata": {},
   "outputs": [
    {
     "data": {
      "text/plain": [
       "0.7364197699371989"
      ]
     },
     "execution_count": 16,
     "metadata": {},
     "output_type": "execute_result"
    }
   ],
   "source": [
    "roc_auc_score(y, rf30.predict_proba(X30)[:, 1])"
   ]
  },
  {
   "cell_type": "markdown",
   "metadata": {},
   "source": [
    "**All Features**"
   ]
  },
  {
   "cell_type": "code",
   "execution_count": 17,
   "metadata": {},
   "outputs": [],
   "source": [
    "X = df\n",
    "\n",
    "X_train, X_test, y_train, y_test = train_test_split(X, y, test_size=0.30, random_state=23)"
   ]
  },
  {
   "cell_type": "code",
   "execution_count": 18,
   "metadata": {},
   "outputs": [
    {
     "data": {
      "text/plain": [
       "RandomForestClassifier(criterion='entropy', max_depth=9, max_features='log2',\n",
       "                       min_samples_leaf=2, n_estimators=10)"
      ]
     },
     "execution_count": 18,
     "metadata": {},
     "output_type": "execute_result"
    }
   ],
   "source": [
    "#Create and gridsearch a random forest model for the data.\n",
    "rf_all = RandomForestClassifier()\n",
    "\n",
    "parameters = {'n_estimators': [10], \n",
    "              'max_features': ['log2'], \n",
    "              'criterion': ['gini', 'entropy'],\n",
    "              'max_depth': [9], \n",
    "              'min_samples_split': [2,3,6],\n",
    "              'min_samples_leaf': [1,2,3],\n",
    "             }\n",
    "\n",
    "roc_auc = make_scorer(roc_auc_score)\n",
    "\n",
    "grid_obj = GridSearchCV(rf30, parameters, scoring=roc_auc)\n",
    "grid_obj = grid_obj.fit(X_train, y_train)\n",
    "\n",
    "rf_all = grid_obj.best_estimator_\n",
    "\n",
    "rf_all.fit(X_train, y_train)"
   ]
  },
  {
   "cell_type": "code",
   "execution_count": 19,
   "metadata": {},
   "outputs": [
    {
     "data": {
      "text/plain": [
       "0.7727648652596625"
      ]
     },
     "execution_count": 19,
     "metadata": {},
     "output_type": "execute_result"
    }
   ],
   "source": [
    "roc_auc_score(y, rf_all.predict_proba(X)[:, 1])"
   ]
  },
  {
   "cell_type": "markdown",
   "metadata": {},
   "source": [
    "**Logistic Regression**"
   ]
  },
  {
   "cell_type": "code",
   "execution_count": 66,
   "metadata": {},
   "outputs": [
    {
     "data": {
      "text/plain": [
       "LogisticRegression(C=0.1)"
      ]
     },
     "execution_count": 66,
     "metadata": {},
     "output_type": "execute_result"
    }
   ],
   "source": [
    "#Create and gridsearch logistic regression model\n",
    "lr = LogisticRegression()\n",
    "\n",
    "parameters = {'C':[0.001,0.01,0.1,1,10,100]}\n",
    "\n",
    "roc_auc = make_scorer(roc_auc_score, greater_is_better=True,\n",
    "                                needs_threshold=True)\n",
    "grid_obj_lr = GridSearchCV(lr, parameters, scoring=roc_auc)\n",
    "grid_obj_lr = grid_obj_lr.fit(X_train, y_train)\n",
    "\n",
    "lr = grid_obj_lr.best_estimator_\n",
    "\n",
    "lr.fit(X_train, y_train)"
   ]
  },
  {
   "cell_type": "code",
   "execution_count": 67,
   "metadata": {},
   "outputs": [
    {
     "data": {
      "text/plain": [
       "0.7628307982565623"
      ]
     },
     "execution_count": 67,
     "metadata": {},
     "output_type": "execute_result"
    }
   ],
   "source": [
    "roc_auc_score(y, lr.predict_proba(X)[:, 1])"
   ]
  },
  {
   "cell_type": "markdown",
   "metadata": {},
   "source": [
    "**KNN**"
   ]
  },
  {
   "cell_type": "code",
   "execution_count": 22,
   "metadata": {},
   "outputs": [
    {
     "data": {
      "text/plain": [
       "KNeighborsClassifier(n_neighbors=9, p=1)"
      ]
     },
     "execution_count": 22,
     "metadata": {},
     "output_type": "execute_result"
    }
   ],
   "source": [
    "knn = KNeighborsClassifier()\n",
    "\n",
    "parameters = {'n_neighbors': [9],\n",
    "              'weights': ['uniform', 'distance'],\n",
    "              'algorithm': ['auto', 'ball_tree', 'kd_tree', 'brute'],\n",
    "              'p': [1]}\n",
    "\n",
    "roc_auc = make_scorer(roc_auc_score, greater_is_better=True,\n",
    "                                needs_threshold=True)\n",
    "grid_obj_knn = GridSearchCV(knn, parameters, scoring=roc_auc)\n",
    "grid_obj_lr = grid_obj_knn.fit(X_train, y_train)\n",
    "\n",
    "knn = grid_obj_knn.best_estimator_\n",
    "\n",
    "knn.fit(X_train, y_train)"
   ]
  },
  {
   "cell_type": "code",
   "execution_count": 23,
   "metadata": {},
   "outputs": [
    {
     "data": {
      "text/plain": [
       "0.7762862603486558"
      ]
     },
     "execution_count": 23,
     "metadata": {},
     "output_type": "execute_result"
    }
   ],
   "source": [
    "roc_auc_score(y, knn.predict_proba(X)[:, 1])"
   ]
  },
  {
   "cell_type": "code",
   "execution_count": 27,
   "metadata": {},
   "outputs": [
    {
     "name": "stdout",
     "output_type": "stream",
     "text": [
      "0.8891840047218533\n"
     ]
    }
   ],
   "source": [
    "#Predict on model and get accuracy score\n",
    "predictions_knn = knn.predict(X_test)\n",
    "print(accuracy_score(y_test, predictions_knn))"
   ]
  },
  {
   "cell_type": "code",
   "execution_count": 28,
   "metadata": {},
   "outputs": [
    {
     "data": {
      "text/plain": [
       "array([[11700,   233],\n",
       "       [ 1269,   352]], dtype=int64)"
      ]
     },
     "execution_count": 28,
     "metadata": {},
     "output_type": "execute_result"
    }
   ],
   "source": [
    "#Random forest confusion matrix\n",
    "confusion_matrix(y_test, predictions_knn)"
   ]
  },
  {
   "cell_type": "markdown",
   "metadata": {},
   "source": [
    "**Thresholding for Profitibility**"
   ]
  },
  {
   "cell_type": "code",
   "execution_count": 26,
   "metadata": {},
   "outputs": [
    {
     "data": {
      "text/plain": [
       "array([[1.        , 0.        ],\n",
       "       [1.        , 0.        ],\n",
       "       [0.88888889, 0.11111111],\n",
       "       ...,\n",
       "       [0.77777778, 0.22222222],\n",
       "       [0.88888889, 0.11111111],\n",
       "       [1.        , 0.        ]])"
      ]
     },
     "execution_count": 26,
     "metadata": {},
     "output_type": "execute_result"
    }
   ],
   "source": [
    "knn.predict_proba(X_test)"
   ]
  },
  {
   "cell_type": "code",
   "execution_count": 40,
   "metadata": {},
   "outputs": [],
   "source": [
    "y_pred = (knn.predict_proba(X_test)[:,1] >= j).astype(bool)"
   ]
  },
  {
   "cell_type": "code",
   "execution_count": 78,
   "metadata": {},
   "outputs": [],
   "source": [
    "def profitibility_threshold(y_test, y_pred):\n",
    "    threshold = []\n",
    "    profit = []\n",
    "    for j in [0, .1, .2, 0.3, .4, .5, .6, .7, .8, .9, 1.0]:\n",
    "        y_pred = (knn.predict_proba(X_test)[:,1] >= j).astype(bool)\n",
    "        CM = confusion_matrix(y_test, y_pred)\n",
    "        TN = CM[0][0]\n",
    "        FN = CM[1][0]\n",
    "        TP = CM[1][1]\n",
    "        FP = CM[0][1]\n",
    "        #revenue = TP*5.00\n",
    "        revenue = TP*100\n",
    "        cost =np.sum(5*y_pred)\n",
    "        #cost =.2*len(y_pred)\n",
    "        threshold.append(j)\n",
    "        profit.append(revenue-cost)\n",
    "    prof_dict = {'Threshold':threshold, 'Profit':profit}\n",
    "    prof_df = pd.DataFrame(prof_dict)\n",
    "    return prof_df"
   ]
  },
  {
   "cell_type": "code",
   "execution_count": 79,
   "metadata": {},
   "outputs": [
    {
     "data": {
      "text/html": [
       "<div>\n",
       "<style scoped>\n",
       "    .dataframe tbody tr th:only-of-type {\n",
       "        vertical-align: middle;\n",
       "    }\n",
       "\n",
       "    .dataframe tbody tr th {\n",
       "        vertical-align: top;\n",
       "    }\n",
       "\n",
       "    .dataframe thead th {\n",
       "        text-align: right;\n",
       "    }\n",
       "</style>\n",
       "<table border=\"1\" class=\"dataframe\">\n",
       "  <thead>\n",
       "    <tr style=\"text-align: right;\">\n",
       "      <th></th>\n",
       "      <th>Threshold</th>\n",
       "      <th>Profit</th>\n",
       "    </tr>\n",
       "  </thead>\n",
       "  <tbody>\n",
       "    <tr>\n",
       "      <th>0</th>\n",
       "      <td>0.0</td>\n",
       "      <td>94330</td>\n",
       "    </tr>\n",
       "    <tr>\n",
       "      <th>1</th>\n",
       "      <td>0.1</td>\n",
       "      <td>86515</td>\n",
       "    </tr>\n",
       "    <tr>\n",
       "      <th>2</th>\n",
       "      <td>0.2</td>\n",
       "      <td>69355</td>\n",
       "    </tr>\n",
       "    <tr>\n",
       "      <th>3</th>\n",
       "      <td>0.3</td>\n",
       "      <td>52325</td>\n",
       "    </tr>\n",
       "    <tr>\n",
       "      <th>4</th>\n",
       "      <td>0.4</td>\n",
       "      <td>40380</td>\n",
       "    </tr>\n",
       "    <tr>\n",
       "      <th>5</th>\n",
       "      <td>0.5</td>\n",
       "      <td>32275</td>\n",
       "    </tr>\n",
       "    <tr>\n",
       "      <th>6</th>\n",
       "      <td>0.6</td>\n",
       "      <td>21620</td>\n",
       "    </tr>\n",
       "    <tr>\n",
       "      <th>7</th>\n",
       "      <td>0.7</td>\n",
       "      <td>11020</td>\n",
       "    </tr>\n",
       "    <tr>\n",
       "      <th>8</th>\n",
       "      <td>0.8</td>\n",
       "      <td>4320</td>\n",
       "    </tr>\n",
       "    <tr>\n",
       "      <th>9</th>\n",
       "      <td>0.9</td>\n",
       "      <td>660</td>\n",
       "    </tr>\n",
       "    <tr>\n",
       "      <th>10</th>\n",
       "      <td>1.0</td>\n",
       "      <td>660</td>\n",
       "    </tr>\n",
       "  </tbody>\n",
       "</table>\n",
       "</div>"
      ],
      "text/plain": [
       "    Threshold  Profit\n",
       "0         0.0   94330\n",
       "1         0.1   86515\n",
       "2         0.2   69355\n",
       "3         0.3   52325\n",
       "4         0.4   40380\n",
       "5         0.5   32275\n",
       "6         0.6   21620\n",
       "7         0.7   11020\n",
       "8         0.8    4320\n",
       "9         0.9     660\n",
       "10        1.0     660"
      ]
     },
     "execution_count": 79,
     "metadata": {},
     "output_type": "execute_result"
    }
   ],
   "source": [
    "prof_df = profitibility_threshold(y_test, y_pred)\n",
    "prof_df"
   ]
  },
  {
   "cell_type": "code",
   "execution_count": 80,
   "metadata": {},
   "outputs": [
    {
     "data": {
      "image/png": "[encoded data removed]",
      "text/plain": [
       "<Figure size 432x288 with 1 Axes>"
      ]
     },
     "metadata": {
      "needs_background": "light"
     },
     "output_type": "display_data"
    }
   ],
   "source": [
    "sns.lineplot(x='Threshold', y='Profit', data=prof_df)\n",
    "plt.ylabel('Profitibility ($)')\n",
    "plt.title('')\n",
    "plt.show()"
   ]
  }
 ],
 "metadata": {
  "kernelspec": {
   "display_name": "Python 3",
   "language": "python",
   "name": "python3"
  },
  "language_info": {
   "codemirror_mode": {
    "name": "ipython",
    "version": 3
   },
   "file_extension": ".py",
   "mimetype": "text/x-python",
   "name": "python",
   "nbconvert_exporter": "python",
   "pygments_lexer": "ipython3",
   "version": "3.6.5"
  }
 },
 "nbformat": 4,
 "nbformat_minor": 4
}
